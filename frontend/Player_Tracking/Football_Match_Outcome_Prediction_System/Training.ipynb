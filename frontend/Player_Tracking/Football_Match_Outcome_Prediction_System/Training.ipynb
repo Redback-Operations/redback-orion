{
 "cells": [
  {
   "cell_type": "markdown",
   "id": "dea6b2f1-e606-4ba0-b95b-93bab9d6a8e3",
   "metadata": {},
   "source": [
    "# Football Match Outcome Prediction - Model Training"
   ]
  },
  {
   "cell_type": "markdown",
   "id": "da66cf06-3eab-426c-933c-adbcec4421c1",
   "metadata": {},
   "source": [
    "Before running this notebook, make sure the following dependencies are installed:"
   ]
  },
  {
   "cell_type": "code",
   "execution_count": null,
   "id": "4d5e2624-4ae3-493d-b821-727f5f8d4611",
   "metadata": {},
   "outputs": [],
   "source": [
    "%pip install pandas scikit-learn xgboost joblib\n"
   ]
  },
  {
   "cell_type": "markdown",
   "id": "d09b3c23-28a2-4402-ae3a-df4b8e1e5de6",
   "metadata": {},
   "source": [
    "Run the code to train a machine learning model (XGBoost Classifier) to predict the outcomes of football matches based on historical data."
   ]
  },
  {
   "cell_type": "code",
   "execution_count": 2,
   "id": "27b85905-1d8a-49e1-9aa4-4d3220b79fa5",
   "metadata": {},
   "outputs": [
    {
     "name": "stdout",
     "output_type": "stream",
     "text": [
      "Data loaded successfully.\n",
      "Training Accuracy: 0.82\n",
      "Testing Accuracy: 0.65\n",
      "\n",
      "Classification Report on Test Data:\n",
      "              precision    recall  f1-score   support\n",
      "\n",
      "           A       0.65      0.69      0.67      1020\n",
      "           D       0.45      0.30      0.36       916\n",
      "           H       0.71      0.82      0.76      1640\n",
      "\n",
      "    accuracy                           0.65      3576\n",
      "   macro avg       0.60      0.60      0.60      3576\n",
      "weighted avg       0.63      0.65      0.63      3576\n",
      "\n",
      "XGBoost Model saved successfully.\n"
     ]
    }
   ],
   "source": [
    "import pandas as pd\n",
    "from sklearn.model_selection import train_test_split\n",
    "from sklearn.preprocessing import LabelEncoder\n",
    "from xgboost import XGBClassifier\n",
    "from sklearn.metrics import accuracy_score, classification_report\n",
    "from os import path\n",
    "import warnings\n",
    "\n",
    "warnings.filterwarnings(\"ignore\", category=UserWarning, module=\"xgboost\")\n",
    "\n",
    "# Data gathering\n",
    "data_folders = [\n",
    "    'english-premier-league_zip',\n",
    "    'spanish-la-liga_zip',\n",
    "    'french-ligue-1_zip',\n",
    "    'german-bundesliga_zip',\n",
    "    'italian-serie-a_zip'\n",
    "]\n",
    "season_range = (9, 18)  # Example: Seasons from 2009-2018\n",
    "\n",
    "data_files = []\n",
    "for folder in data_folders:\n",
    "    for season in range(season_range[0], season_range[1] + 1):\n",
    "        data_files.append(f'data/{folder}/data/season-{season:02d}{season + 1:02d}_csv.csv')\n",
    "\n",
    "# Collect data from available files\n",
    "data_frames = []\n",
    "for data_file in data_files:\n",
    "    if path.exists(data_file):\n",
    "        data_frames.append(pd.read_csv(data_file))\n",
    "\n",
    "if not data_frames:\n",
    "    print(\"No data files found. Please ensure data files are in the correct path.\")\n",
    "    exit()\n",
    "\n",
    "# Combine all data\n",
    "data = pd.concat(data_frames).reset_index(drop=True)\n",
    "print(\"Data loaded successfully.\")\n",
    "\n",
    "# Preprocessing\n",
    "input_features = ['home_encoded', 'away_encoded', 'HTHG', 'HTAG', 'HS', 'AS', 'HST', 'AST', 'HR', 'AR']\n",
    "output_feature = 'FTR'  # Full-Time Result: 'H', 'A', 'D'\n",
    "\n",
    "# Encode team names\n",
    "encoder = LabelEncoder()\n",
    "data['home_encoded'] = encoder.fit_transform(data['HomeTeam'])\n",
    "home_mapping = dict(zip(encoder.classes_, encoder.transform(encoder.classes_)))\n",
    "\n",
    "data['away_encoded'] = encoder.fit_transform(data['AwayTeam'])\n",
    "away_mapping = dict(zip(encoder.classes_, encoder.transform(encoder.classes_)))\n",
    "\n",
    "# Encode target variable\n",
    "target_encoder = LabelEncoder()\n",
    "data['FTR_encoded'] = target_encoder.fit_transform(data['FTR'])\n",
    "\n",
    "# Filter relevant columns\n",
    "data = data[input_features + ['FTR_encoded']]\n",
    "data.dropna(inplace=True)  # Drop rows with missing values\n",
    "\n",
    "# Split data\n",
    "X = data[input_features]\n",
    "y = data['FTR_encoded']\n",
    "\n",
    "X_train, X_test, y_train, y_test = train_test_split(X, y, test_size=0.2, random_state=42)\n",
    "\n",
    "# Build and train the XGBoost model\n",
    "xgb_classifier = XGBClassifier(random_state=42, use_label_encoder=False, eval_metric='mlogloss')\n",
    "xgb_classifier.fit(X_train, y_train)\n",
    "\n",
    "# Evaluate the model\n",
    "y_train_pred = xgb_classifier.predict(X_train)\n",
    "y_test_pred = xgb_classifier.predict(X_test)\n",
    "\n",
    "train_accuracy = accuracy_score(y_train, y_train_pred)\n",
    "test_accuracy = accuracy_score(y_test, y_test_pred)\n",
    "\n",
    "print(f\"Training Accuracy: {train_accuracy:.2f}\")\n",
    "print(f\"Testing Accuracy: {test_accuracy:.2f}\")\n",
    "print(\"\\nClassification Report on Test Data:\")\n",
    "print(classification_report(y_test, y_test_pred, target_names=target_encoder.classes_))\n",
    "\n",
    "# Save the model (optional)\n",
    "from joblib import dump\n",
    "dump(xgb_classifier, 'xgb_classifier.model')\n",
    "print(\"XGBoost Model saved successfully.\")\n"
   ]
  }
 ],
 "metadata": {
  "kernelspec": {
   "display_name": "Python 3 (ipykernel)",
   "language": "python",
   "name": "python3"
  },
  "language_info": {
   "codemirror_mode": {
    "name": "ipython",
    "version": 3
   },
   "file_extension": ".py",
   "mimetype": "text/x-python",
   "name": "python",
   "nbconvert_exporter": "python",
   "pygments_lexer": "ipython3",
   "version": "3.10.11"
  }
 },
 "nbformat": 4,
 "nbformat_minor": 5
}
