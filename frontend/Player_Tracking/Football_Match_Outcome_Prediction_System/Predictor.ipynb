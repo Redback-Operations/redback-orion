{
 "cells": [
  {
   "cell_type": "markdown",
   "id": "a4ddc447-ca5e-4485-aea9-5269705931c7",
   "metadata": {},
   "source": [
    "# Football Match Outcome Prediction - Match Predictor"
   ]
  },
  {
   "cell_type": "markdown",
   "id": "4e2e972f-8b28-4fa6-9dd2-70188a49c202",
   "metadata": {},
   "source": [
    "Before running this notebook, make sure the following dependencies are installed"
   ]
  },
  {
   "cell_type": "code",
   "execution_count": null,
   "id": "c99f368d-fca9-4509-8627-2406295df207",
   "metadata": {},
   "outputs": [],
   "source": [
    "%pip install numpy"
   ]
  },
  {
   "cell_type": "markdown",
   "id": "b6ef0d18-f2b6-44c2-a2c2-fc97cf1137d5",
   "metadata": {},
   "source": [
    "Run the code to use the pre-trained XGBoost model to predict football match outcomes based on user-input match statistics."
   ]
  },
  {
   "cell_type": "code",
   "execution_count": 6,
   "id": "31241d65-639e-4ce5-b554-7eaa63e960de",
   "metadata": {},
   "outputs": [
    {
     "name": "stdout",
     "output_type": "stream",
     "text": [
      "\n",
      "Enter the match details:\n"
     ]
    },
    {
     "name": "stdout",
     "output_type": "stream",
     "text": [
      "Home Team:  Liverpool\n",
      "Away Team:  Manchester United\n",
      "Half-Time Home Goals (HTHG):  1\n",
      "Half-Time Away Goals (HTAG):  1\n",
      "Home Shots (HS):  1\n",
      "Away Shots (AS):  2\n",
      "Home Shots on Target (HST):  1\n",
      "Away Shots on Target (AST):  2\n",
      "Home Red Cards (HR):  3\n",
      "Away Red Cards (AR):  2\n"
     ]
    },
    {
     "name": "stdout",
     "output_type": "stream",
     "text": [
      "\n",
      "Predicted Outcome: Away Win \n"
     ]
    },
    {
     "name": "stdout",
     "output_type": "stream",
     "text": [
      "\n",
      "Do you want to predict another match? (y/n):  n\n"
     ]
    },
    {
     "name": "stdout",
     "output_type": "stream",
     "text": [
      "Exiting prediction tool. Goodbye!\n"
     ]
    }
   ],
   "source": [
    "from joblib import load\n",
    "import numpy as np\n",
    "\n",
    "# Load the trained XGBoost model and metadata\n",
    "xgb_classifier = load('xgb_classifier.model')\n",
    "\n",
    "# Sample metadata for encoding teams (replace with actual metadata from training)\n",
    "home_mapping = {\"Liverpool\": 0, \"Manchester United\": 1, \"Chelsea\": 2}  # Example\n",
    "away_mapping = {\"Liverpool\": 0, \"Manchester United\": 1, \"Chelsea\": 2}  # Example\n",
    "\n",
    "# Function to input match details manually\n",
    "def get_match_input():\n",
    "    print(\"\\nEnter the match details:\")\n",
    "    \n",
    "    home_team = input(\"Home Team: \")\n",
    "    away_team = input(\"Away Team: \")\n",
    "    home_goals = int(input(\"Half-Time Home Goals (HTHG): \"))\n",
    "    away_goals = int(input(\"Half-Time Away Goals (HTAG): \"))\n",
    "    home_shots = int(input(\"Home Shots (HS): \"))\n",
    "    away_shots = int(input(\"Away Shots (AS): \"))\n",
    "    home_shots_on_target = int(input(\"Home Shots on Target (HST): \"))\n",
    "    away_shots_on_target = int(input(\"Away Shots on Target (AST): \"))\n",
    "    home_red_cards = int(input(\"Home Red Cards (HR): \"))\n",
    "    away_red_cards = int(input(\"Away Red Cards (AR): \"))\n",
    "    \n",
    "    # Encode teams\n",
    "    home_encoded = home_mapping.get(home_team, -1)\n",
    "    away_encoded = away_mapping.get(away_team, -1)\n",
    "    \n",
    "    if home_encoded == -1 or away_encoded == -1:\n",
    "        print(\"\\nError: One or both teams not found in metadata. Please check your input.\")\n",
    "        return None\n",
    "    \n",
    "    # Prepare feature array\n",
    "    features = np.array([\n",
    "        home_encoded, away_encoded,\n",
    "        home_goals, away_goals,\n",
    "        home_shots, away_shots,\n",
    "        home_shots_on_target, away_shots_on_target,\n",
    "        home_red_cards, away_red_cards\n",
    "    ])\n",
    "    return features\n",
    "\n",
    "# Prediction loop\n",
    "while True:\n",
    "    features = get_match_input()\n",
    "    if features is None:\n",
    "        continue\n",
    "    \n",
    "    # Predict match outcome\n",
    "    prediction = xgb_classifier.predict([features])[0]\n",
    "    prediction_map = {0: 'Away Win', 1: 'Draw', 2: 'Home Win'}\n",
    "    result = prediction_map[prediction]\n",
    "    \n",
    "    print(f\"\\nPredicted Outcome: {result} \")\n",
    "    \n",
    "    # Option to exit or predict another match\n",
    "    repeat = input(\"\\nDo you want to predict another match? (y/n): \").lower()\n",
    "    if repeat != 'y':\n",
    "        print(\"Exiting prediction tool. Goodbye!\")\n",
    "        break\n"
   ]
  },
  {
   "cell_type": "code",
   "execution_count": null,
   "id": "18bb2490-5fce-429b-9e60-0ca171cfd640",
   "metadata": {},
   "outputs": [],
   "source": []
  }
 ],
 "metadata": {
  "kernelspec": {
   "display_name": "Python 3 (ipykernel)",
   "language": "python",
   "name": "python3"
  },
  "language_info": {
   "codemirror_mode": {
    "name": "ipython",
    "version": 3
   },
   "file_extension": ".py",
   "mimetype": "text/x-python",
   "name": "python",
   "nbconvert_exporter": "python",
   "pygments_lexer": "ipython3",
   "version": "3.10.11"
  }
 },
 "nbformat": 4,
 "nbformat_minor": 5
}
