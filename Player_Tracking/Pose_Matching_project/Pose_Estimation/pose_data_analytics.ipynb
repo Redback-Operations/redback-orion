{
 "cells": [
  {
   "cell_type": "code",
   "execution_count": null,
   "metadata": {},
   "outputs": [],
   "source": [
    "import pandas as pd\n",
    "import matplotlib.pyplot as plt\n"
   ]
  },
  {
   "cell_type": "code",
   "execution_count": null,
   "metadata": {},
   "outputs": [],
   "source": [
    "data_df = pd.read_csv(\"pose_data.csv\")\n",
    "data_df.head()"
   ]
  },
  {
   "cell_type": "code",
   "execution_count": null,
   "metadata": {},
   "outputs": [],
   "source": [
    "plt.figure(figsize=(10, 5))\n",
    "plt.plot(data_df[\"frame\"], data_df[\"processing_time_ms\"], marker='o')\n",
    "plt.xlabel(\"Frame\")\n",
    "plt.ylabel(\"Processing Time (ms)\")\n",
    "plt.title(\"Processing Time per Frame\")\n",
    "plt.show()"
   ]
  },
  {
   "cell_type": "code",
   "execution_count": null,
   "metadata": {},
   "outputs": [],
   "source": [
    "plt.figure(figsize=(10, 5))\n",
    "plt.plot(data_df[\"frame\"], data_df[\"detected_keypoints\"], marker='o')\n",
    "plt.xlabel(\"Frame\")\n",
    "plt.ylabel(\"Detected Keypoints\")\n",
    "plt.title(\"Detected Keypoints per Frame\")\n",
    "plt.show()"
   ]
  }
 ],
 "metadata": {
  "kernelspec": {
   "display_name": "python3",
   "language": "python",
   "name": "python3"
  },
  "language_info": {
   "name": "python",
   "version": "3.8"
  }
 },
 "nbformat": 4,
 "nbformat_minor": 2
}
