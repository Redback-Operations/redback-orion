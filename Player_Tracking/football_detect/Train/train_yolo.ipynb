{
 "cells": [
  {
   "cell_type": "markdown",
   "metadata": {},
   "source": [
    "# Train YOLOv8 on football players detection"
   ]
  },
  {
   "cell_type": "markdown",
   "metadata": {},
   "source": [
    "Setup Environment"
   ]
  },
  {
   "cell_type": "code",
   "execution_count": null,
   "metadata": {
    "vscode": {
     "languageId": "plaintext"
    }
   },
   "outputs": [],
   "source": [
    "! pip install roboflow\n",
    "! pip install ultralytics"
   ]
  },
  {
   "cell_type": "markdown",
   "metadata": {},
   "source": [
    "Prepare Dataset\n",
    "\n",
    "Using roboflow to annotate the pictures and export the dataset"
   ]
  },
  {
   "cell_type": "markdown",
   "metadata": {},
   "source": [
    "Training"
   ]
  },
  {
   "cell_type": "code",
   "execution_count": null,
   "metadata": {
    "vscode": {
     "languageId": "plaintext"
    }
   },
   "outputs": [],
   "source": [
    "from ultralytics import YOLO\n",
    "import os\n",
    "now_path_MOP_Code = os.getcwd()\n",
    "print(now_path_MOP_Code)\n",
    "now_path_Vehicle_Classification = os.path.join(now_path_MOP_Code, \"artificial-intelligence\", \"Vehicle Classification\")\n",
    "print(now_path_Vehicle_Classification)\n",
    "now_path_Coding_using_Yolov8 = os.path.join(now_path_Vehicle_Classification, \"Coding using Yolov8\")\n",
    "print(now_path_Coding_using_Yolov8)\n",
    "now_path_MyTest = os.getcwd()\n",
    "dataset_path = os.path.join(now_path_Vehicle_Classification, \"dataset\")\n",
    "print(os.path.join(now_path_MyTest,\"yolov8n.pt\"))\n",
    "# Load a model\n",
    "model = YOLO(os.path.join(now_path_MyTest,\"yolov8n.pt\"))\n",
    "\n",
    "# Train the model\n",
    "results = model.train(data=os.path.join(now_path_MyTest,\"data.yaml\"), epochs=100, imgsz=640)"
   ]
  }
 ],
 "metadata": {
  "language_info": {
   "name": "python"
  }
 },
 "nbformat": 4,
 "nbformat_minor": 2
}
