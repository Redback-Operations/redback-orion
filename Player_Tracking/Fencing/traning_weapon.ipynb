{
 "cells": [
  {
   "cell_type": "code",
   "execution_count": 1,
   "id": "1ec14758-da52-4963-9cc9-46aa1b6d08ee",
   "metadata": {},
   "outputs": [],
   "source": [
    "from ultralytics import YOLO\n",
    "from IPython.display import display, Image\n",
    "from roboflow import Roboflow"
   ]
  },
  {
   "cell_type": "code",
   "execution_count": null,
   "id": "196e637a-c28e-4029-94b9-eac1820fd8f3",
   "metadata": {},
   "outputs": [],
   "source": [
    "!pip install roboflow\n",
    "\n",
    "from roboflow import Roboflow\n",
    "rf = Roboflow(api_key=\"OJZCXgnQpdRvFboeslqI\")\n",
    "project = rf.workspace(\"phineas-pham\").project(\"fencing-fxdmr\")\n",
    "version = project.version(4)\n",
    "dataset = version.download(\"yolov8\")"
   ]
  },
  {
   "cell_type": "code",
   "execution_count": null,
   "id": "e12655fd-646c-4ccc-89cb-e270c4d45c74",
   "metadata": {},
   "outputs": [],
   "source": [
    "import os\n",
    "\n",
    "def filter_labels(directory, allowed_class_ids):\n",
    "    \"\"\"\n",
    "    This function modifies label files in place in the given directory,\n",
    "    removing annotations not belonging to allowed_class_ids.\n",
    "    \"\"\"\n",
    "    for filename in os.listdir(directory):\n",
    "        if filename.endswith(\".txt\"):  # Check if it's a label file\n",
    "            path = os.path.join(directory, filename)\n",
    "            with open(path, 'r') as file:\n",
    "                lines = file.readlines()\n",
    "            with open(path, 'w') as file:\n",
    "                for line in lines:\n",
    "                    class_id = int(line.split()[0])\n",
    "                    if class_id in allowed_class_ids:\n",
    "                        file.write(line)\n",
    "\n",
    "# Define directories (adjust paths as needed)\n",
    "train_labels_dir = '/content/Fencing-4/train/labels'\n",
    "valid_labels_dir = '/content/Fencing-4/valid/labels'\n",
    "test_labels_dir = '/content/Fencing-4/test/labels'  # if test set exists\n",
    "\n",
    "# Set allowed class IDs (e.g., only 'weapon')\n",
    "# You need to know the index of 'weapon' in your original class list\n",
    "allowed_class_ids = [5]  # Assuming 'weapon' is class index 5\n",
    "\n",
    "# Filter labels\n",
    "filter_labels(train_labels_dir, allowed_class_ids)\n",
    "filter_labels(valid_labels_dir, allowed_class_ids)\n",
    "if os.path.exists(test_labels_dir):\n",
    "    filter_labels(test_labels_dir, allowed_class_ids)"
   ]
  },
  {
   "cell_type": "code",
   "execution_count": null,
   "id": "aa1e7cfb-6352-4307-b09f-e8945c58c02f",
   "metadata": {},
   "outputs": [],
   "source": [
    "!yolo task=detect mode=train model=yolov8s.pt data={dataset.location}/data.yaml epochs=20 imgsz=800 plots=True"
   ]
  }
 ],
 "metadata": {
  "kernelspec": {
   "display_name": "Python 3 (ipykernel)",
   "language": "python",
   "name": "python3"
  },
  "language_info": {
   "codemirror_mode": {
    "name": "ipython",
    "version": 3
   },
   "file_extension": ".py",
   "mimetype": "text/x-python",
   "name": "python",
   "nbconvert_exporter": "python",
   "pygments_lexer": "ipython3",
   "version": "3.11.7"
  }
 },
 "nbformat": 4,
 "nbformat_minor": 5
}
