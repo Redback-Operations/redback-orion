{
  "cells": [
    {
      "cell_type": "code",
      "execution_count": null,
      "metadata": {
        "id": "jsgavDCmHBtJ"
      },
      "outputs": [],
      "source": [
        "from transformers import AutoTokenizer, AutoModelForCausalLM, pipeline"
      ]
    },
    {
      "cell_type": "code",
      "execution_count": null,
      "metadata": {
        "id": "Z9NAz3MRHLFV"
      },
      "outputs": [],
      "source": [
        "import math\n",
        "import cv2\n",
        "from gtts import gTTS"
      ]
    },
    {
      "cell_type": "code",
      "execution_count": null,
      "metadata": {
        "id": "WYScLQvmKG39"
      },
      "outputs": [],
      "source": [
        "from moviepy.editor import VideoFileClip, AudioFileClip, CompositeAudioClip\n",
        "import math\n",
        "import os"
      ]
    },
    {
      "cell_type": "markdown",
      "metadata": {
        "id": "CN8fA_WkJW8M"
      },
      "source": [
        "# TRAINING"
      ]
    },
    {
      "cell_type": "markdown",
      "metadata": {
        "id": "1PRRQc32JZ-c"
      },
      "source": [
        "#DATASET LOADING"
      ]
    },
    {
      "cell_type": "code",
      "execution_count": null,
      "metadata": {
        "colab": {
          "base_uri": "https://localhost:8080/"
        },
        "id": "vcM9MKCv-OZ_",
        "outputId": "ea5d8c53-a795-48b4-c0fd-af013fead569"
      },
      "outputs": [
        {
          "name": "stdout",
          "output_type": "stream",
          "text": [
            "Cloning into 'ultralytics'...\n",
            "remote: Enumerating objects: 59419, done.\u001b[K\n",
            "remote: Counting objects: 100% (809/809), done.\u001b[K\n",
            "remote: Compressing objects: 100% (379/379), done.\u001b[K\n",
            "remote: Total 59419 (delta 644), reused 443 (delta 430), pack-reused 58610 (from 2)\u001b[K\n",
            "Receiving objects: 100% (59419/59419), 32.59 MiB | 16.03 MiB/s, done.\n",
            "Resolving deltas: 100% (44070/44070), done.\n"
          ]
        }
      ],
      "source": [
        "!git clone https://github.com/ultralytics/ultralytics.git"
      ]
    },
    {
      "cell_type": "code",
      "execution_count": null,
      "metadata": {
        "id": "sXk0Scvc3rqy"
      },
      "outputs": [],
      "source": [
        "from ultralytics import YOLO"
      ]
    },
    {
      "cell_type": "code",
      "execution_count": null,
      "metadata": {
        "colab": {
          "base_uri": "https://localhost:8080/"
        },
        "id": "hrmDvUqh35Mx",
        "outputId": "dca3b4ca-46fe-43d7-b95a-441e650b520f"
      },
      "outputs": [
        {
          "name": "stdout",
          "output_type": "stream",
          "text": [
            "Downloading https://github.com/ultralytics/assets/releases/download/v8.3.0/yolov8n.pt to 'yolov8n.pt'...\n"
          ]
        },
        {
          "name": "stderr",
          "output_type": "stream",
          "text": [
            "100%|██████████| 6.25M/6.25M [00:00<00:00, 91.9MB/s]\n"
          ]
        }
      ],
      "source": [
        "model = YOLO(\"yolov8n.pt\")"
      ]
    },
    {
      "cell_type": "code",
      "execution_count": null,
      "metadata": {
        "id": "sgIkmcSh37eF"
      },
      "outputs": [],
      "source": [
        "import torch.nn as nn"
      ]
    },
    {
      "cell_type": "code",
      "execution_count": null,
      "metadata": {
        "id": "c_fabher39YC"
      },
      "outputs": [],
      "source": [
        "original_head = model.model.model[-1]"
      ]
    },
    {
      "cell_type": "code",
      "execution_count": null,
      "metadata": {
        "colab": {
          "base_uri": "https://localhost:8080/"
        },
        "id": "nOHpbFt_Jbb3",
        "outputId": "57e34409-8441-4e1b-c39a-67dfaa702f4a"
      },
      "outputs": [
        {
          "data": {
            "text/plain": [
              "Detect(\n",
              "  (cv2): ModuleList(\n",
              "    (0): Sequential(\n",
              "      (0): Conv(\n",
              "        (conv): Conv2d(64, 64, kernel_size=(3, 3), stride=(1, 1), padding=(1, 1), bias=False)\n",
              "        (bn): BatchNorm2d(64, eps=0.001, momentum=0.03, affine=True, track_running_stats=True)\n",
              "        (act): SiLU(inplace=True)\n",
              "      )\n",
              "      (1): Conv(\n",
              "        (conv): Conv2d(64, 64, kernel_size=(3, 3), stride=(1, 1), padding=(1, 1), bias=False)\n",
              "        (bn): BatchNorm2d(64, eps=0.001, momentum=0.03, affine=True, track_running_stats=True)\n",
              "        (act): SiLU(inplace=True)\n",
              "      )\n",
              "      (2): Conv2d(64, 64, kernel_size=(1, 1), stride=(1, 1))\n",
              "    )\n",
              "    (1): Sequential(\n",
              "      (0): Conv(\n",
              "        (conv): Conv2d(128, 64, kernel_size=(3, 3), stride=(1, 1), padding=(1, 1), bias=False)\n",
              "        (bn): BatchNorm2d(64, eps=0.001, momentum=0.03, affine=True, track_running_stats=True)\n",
              "        (act): SiLU(inplace=True)\n",
              "      )\n",
              "      (1): Conv(\n",
              "        (conv): Conv2d(64, 64, kernel_size=(3, 3), stride=(1, 1), padding=(1, 1), bias=False)\n",
              "        (bn): BatchNorm2d(64, eps=0.001, momentum=0.03, affine=True, track_running_stats=True)\n",
              "        (act): SiLU(inplace=True)\n",
              "      )\n",
              "      (2): Conv2d(64, 64, kernel_size=(1, 1), stride=(1, 1))\n",
              "    )\n",
              "    (2): Sequential(\n",
              "      (0): Conv(\n",
              "        (conv): Conv2d(256, 64, kernel_size=(3, 3), stride=(1, 1), padding=(1, 1), bias=False)\n",
              "        (bn): BatchNorm2d(64, eps=0.001, momentum=0.03, affine=True, track_running_stats=True)\n",
              "        (act): SiLU(inplace=True)\n",
              "      )\n",
              "      (1): Conv(\n",
              "        (conv): Conv2d(64, 64, kernel_size=(3, 3), stride=(1, 1), padding=(1, 1), bias=False)\n",
              "        (bn): BatchNorm2d(64, eps=0.001, momentum=0.03, affine=True, track_running_stats=True)\n",
              "        (act): SiLU(inplace=True)\n",
              "      )\n",
              "      (2): Conv2d(64, 64, kernel_size=(1, 1), stride=(1, 1))\n",
              "    )\n",
              "  )\n",
              "  (cv3): ModuleList(\n",
              "    (0): Sequential(\n",
              "      (0): Conv(\n",
              "        (conv): Conv2d(64, 80, kernel_size=(3, 3), stride=(1, 1), padding=(1, 1), bias=False)\n",
              "        (bn): BatchNorm2d(80, eps=0.001, momentum=0.03, affine=True, track_running_stats=True)\n",
              "        (act): SiLU(inplace=True)\n",
              "      )\n",
              "      (1): Conv(\n",
              "        (conv): Conv2d(80, 80, kernel_size=(3, 3), stride=(1, 1), padding=(1, 1), bias=False)\n",
              "        (bn): BatchNorm2d(80, eps=0.001, momentum=0.03, affine=True, track_running_stats=True)\n",
              "        (act): SiLU(inplace=True)\n",
              "      )\n",
              "      (2): Conv2d(80, 80, kernel_size=(1, 1), stride=(1, 1))\n",
              "    )\n",
              "    (1): Sequential(\n",
              "      (0): Conv(\n",
              "        (conv): Conv2d(128, 80, kernel_size=(3, 3), stride=(1, 1), padding=(1, 1), bias=False)\n",
              "        (bn): BatchNorm2d(80, eps=0.001, momentum=0.03, affine=True, track_running_stats=True)\n",
              "        (act): SiLU(inplace=True)\n",
              "      )\n",
              "      (1): Conv(\n",
              "        (conv): Conv2d(80, 80, kernel_size=(3, 3), stride=(1, 1), padding=(1, 1), bias=False)\n",
              "        (bn): BatchNorm2d(80, eps=0.001, momentum=0.03, affine=True, track_running_stats=True)\n",
              "        (act): SiLU(inplace=True)\n",
              "      )\n",
              "      (2): Conv2d(80, 80, kernel_size=(1, 1), stride=(1, 1))\n",
              "    )\n",
              "    (2): Sequential(\n",
              "      (0): Conv(\n",
              "        (conv): Conv2d(256, 80, kernel_size=(3, 3), stride=(1, 1), padding=(1, 1), bias=False)\n",
              "        (bn): BatchNorm2d(80, eps=0.001, momentum=0.03, affine=True, track_running_stats=True)\n",
              "        (act): SiLU(inplace=True)\n",
              "      )\n",
              "      (1): Conv(\n",
              "        (conv): Conv2d(80, 80, kernel_size=(3, 3), stride=(1, 1), padding=(1, 1), bias=False)\n",
              "        (bn): BatchNorm2d(80, eps=0.001, momentum=0.03, affine=True, track_running_stats=True)\n",
              "        (act): SiLU(inplace=True)\n",
              "      )\n",
              "      (2): Conv2d(80, 80, kernel_size=(1, 1), stride=(1, 1))\n",
              "    )\n",
              "  )\n",
              "  (dfl): DFL(\n",
              "    (conv): Conv2d(16, 1, kernel_size=(1, 1), stride=(1, 1), bias=False)\n",
              "  )\n",
              ")"
            ]
          },
          "execution_count": 11,
          "metadata": {},
          "output_type": "execute_result"
        }
      ],
      "source": [
        "original_head"
      ]
    },
    {
      "cell_type": "code",
      "execution_count": null,
      "metadata": {
        "id": "8Tx-fV5w4AW5"
      },
      "outputs": [],
      "source": [
        "class CustomDetectionHead(nn.Module):\n",
        "    def __init__(self, in_channels, num_classes):\n",
        "        super(CustomDetectionHead, self).__init__()\n",
        "        self.conv1 = nn.Conv2d(in_channels, in_channels, kernel_size=3, padding=1)\n",
        "        self.conv2 = nn.Conv2d(in_channels, in_channels, kernel_size=3, padding=1)\n",
        "        self.predict = nn.Conv2d(in_channels, num_classes + 5, kernel_size=1)  # 5 for bbox coords and confidence\n",
        "\n",
        "    def forward(self, x):\n",
        "        x = self.conv1(x)\n",
        "        x = self.conv2(x)\n",
        "        return self.predict(x)"
      ]
    },
    {
      "cell_type": "code",
      "execution_count": null,
      "metadata": {
        "id": "_1FLKfXz4Bea"
      },
      "outputs": [],
      "source": [
        "new_head = CustomDetectionHead(in_channels=80, num_classes=1)"
      ]
    },
    {
      "cell_type": "code",
      "execution_count": null,
      "metadata": {
        "id": "iSHYB8An4MiX"
      },
      "outputs": [],
      "source": [
        "model.model.model[-1] = nn.Sequential(\n",
        "    original_head,  # Existing detection head\n",
        "    new_head        # New detection head\n",
        ")"
      ]
    },
    {
      "cell_type": "code",
      "execution_count": null,
      "metadata": {
        "id": "PpOUUeqDLi1z"
      },
      "outputs": [],
      "source": [
        "import gc\n",
        "import torch\n",
        "\n",
        "gc.collect()\n",
        "\n",
        "# Free GPU memory (specific to PyTorch)\n",
        "torch.cuda.empty_cache()\n",
        "torch.cuda.empty_cache()\n",
        "torch.cuda.empty_cache()\n",
        "torch.cuda.empty_cache()"
      ]
    },
    {
      "cell_type": "code",
      "execution_count": null,
      "metadata": {
        "colab": {
          "base_uri": "https://localhost:8080/"
        },
        "id": "dwHXPZzl4PYn",
        "outputId": "d02a4e49-1e17-44a8-cebb-100980a61576"
      },
      "outputs": [
        {
          "name": "stdout",
          "output_type": "stream",
          "text": [
            "Ultralytics 8.3.131 🚀 Python-3.11.12 torch-2.6.0+cu124 CUDA:0 (Tesla T4, 15095MiB)\n",
            "\u001b[34m\u001b[1mengine/trainer: \u001b[0magnostic_nms=False, amp=True, augment=False, auto_augment=randaugment, batch=12, bgr=0.0, box=7.5, cache=False, cfg=None, classes=None, close_mosaic=10, cls=0.5, conf=None, copy_paste=0.0, copy_paste_mode=flip, cos_lr=False, cutmix=0.0, data=/content/Tennis-Detection-2/data.yaml, degrees=0.0, deterministic=True, device=None, dfl=1.5, dnn=False, dropout=0.0, dynamic=False, embed=None, epochs=80, erasing=0.4, exist_ok=False, fliplr=0.5, flipud=0.0, format=torchscript, fraction=1.0, freeze=None, half=False, hsv_h=0.015, hsv_s=0.7, hsv_v=0.4, imgsz=1280, int8=False, iou=0.7, keras=False, kobj=1.0, line_width=None, lr0=0.01, lrf=0.01, mask_ratio=4, max_det=300, mixup=0.0, mode=train, model=yolov8n.pt, momentum=0.937, mosaic=1.0, multi_scale=False, name=train, nbs=64, nms=False, opset=None, optimize=False, optimizer=auto, overlap_mask=True, patience=100, perspective=0.0, plots=True, pose=12.0, pretrained=True, profile=False, project=None, rect=False, resume=False, retina_masks=False, save=True, save_conf=False, save_crop=False, save_dir=runs/detect/train, save_frames=False, save_json=False, save_period=-1, save_txt=False, scale=0.5, seed=0, shear=0.0, show=False, show_boxes=True, show_conf=True, show_labels=True, simplify=True, single_cls=False, source=None, split=val, stream_buffer=False, task=detect, time=None, tracker=botsort.yaml, translate=0.1, val=True, verbose=True, vid_stride=1, visualize=False, warmup_bias_lr=0.1, warmup_epochs=3.0, warmup_momentum=0.8, weight_decay=0.0005, workers=8, workspace=None\n",
            "Downloading https://ultralytics.com/assets/Arial.ttf to '/root/.config/Ultralytics/Arial.ttf'...\n"
          ]
        },
        {
          "name": "stderr",
          "output_type": "stream",
          "text": [
            "100%|██████████| 755k/755k [00:00<00:00, 31.5MB/s]"
          ]
        },
        {
          "name": "stdout",
          "output_type": "stream",
          "text": [
            "Overriding model.yaml nc=80 with nc=1\n",
            "\n",
            "                   from  n    params  module                                       arguments                     \n",
            "  0                  -1  1       464  ultralytics.nn.modules.conv.Conv             [3, 16, 3, 2]                 \n",
            "  1                  -1  1      4672  ultralytics.nn.modules.conv.Conv             [16, 32, 3, 2]                \n",
            "  2                  -1  1      7360  ultralytics.nn.modules.block.C2f             [32, 32, 1, True]             \n",
            "  3                  -1  1     18560  ultralytics.nn.modules.conv.Conv             [32, 64, 3, 2]                \n",
            "  4                  -1  2     49664  ultralytics.nn.modules.block.C2f             [64, 64, 2, True]             \n",
            "  5                  -1  1     73984  ultralytics.nn.modules.conv.Conv             [64, 128, 3, 2]               \n",
            "  6                  -1  2    197632  ultralytics.nn.modules.block.C2f             [128, 128, 2, True]           \n",
            "  7                  -1  1    295424  ultralytics.nn.modules.conv.Conv             [128, 256, 3, 2]              \n",
            "  8                  -1  1    460288  ultralytics.nn.modules.block.C2f             [256, 256, 1, True]           \n",
            "  9                  -1  1    164608  ultralytics.nn.modules.block.SPPF            [256, 256, 5]                 \n",
            " 10                  -1  1         0  torch.nn.modules.upsampling.Upsample         [None, 2, 'nearest']          \n",
            " 11             [-1, 6]  1         0  ultralytics.nn.modules.conv.Concat           [1]                           \n",
            " 12                  -1  1    148224  ultralytics.nn.modules.block.C2f             [384, 128, 1]                 \n",
            " 13                  -1  1         0  torch.nn.modules.upsampling.Upsample         [None, 2, 'nearest']          \n",
            " 14             [-1, 4]  1         0  ultralytics.nn.modules.conv.Concat           [1]                           \n",
            " 15                  -1  1     37248  ultralytics.nn.modules.block.C2f             [192, 64, 1]                  \n",
            " 16                  -1  1     36992  ultralytics.nn.modules.conv.Conv             [64, 64, 3, 2]                \n",
            " 17            [-1, 12]  1         0  ultralytics.nn.modules.conv.Concat           [1]                           \n",
            " 18                  -1  1    123648  ultralytics.nn.modules.block.C2f             [192, 128, 1]                 \n",
            " 19                  -1  1    147712  ultralytics.nn.modules.conv.Conv             [128, 128, 3, 2]              \n",
            " 20             [-1, 9]  1         0  ultralytics.nn.modules.conv.Concat           [1]                           \n",
            " 21                  -1  1    493056  ultralytics.nn.modules.block.C2f             [384, 256, 1]                 \n",
            " 22        [15, 18, 21]  1    751507  ultralytics.nn.modules.head.Detect           [1, [64, 128, 256]]           \n"
          ]
        },
        {
          "name": "stderr",
          "output_type": "stream",
          "text": [
            "\n"
          ]
        },
        {
          "name": "stdout",
          "output_type": "stream",
          "text": [
            "Model summary: 129 layers, 3,011,043 parameters, 3,011,027 gradients, 8.2 GFLOPs\n",
            "\n",
            "Transferred 270/355 items from pretrained weights\n",
            "Freezing layer 'model.22.dfl.conv.weight'\n",
            "\u001b[34m\u001b[1mAMP: \u001b[0mrunning Automatic Mixed Precision (AMP) checks...\n",
            "Downloading https://github.com/ultralytics/assets/releases/download/v8.3.0/yolo11n.pt to 'yolo11n.pt'...\n"
          ]
        },
        {
          "name": "stderr",
          "output_type": "stream",
          "text": [
            "100%|██████████| 5.35M/5.35M [00:00<00:00, 167MB/s]\n"
          ]
        },
        {
          "name": "stdout",
          "output_type": "stream",
          "text": [
            "\u001b[34m\u001b[1mAMP: \u001b[0mchecks passed ✅\n",
            "\u001b[34m\u001b[1mtrain: \u001b[0mFast image access ✅ (ping: 0.0±0.0 ms, read: 1531.9±473.8 MB/s, size: 48.2 KB)\n"
          ]
        },
        {
          "name": "stderr",
          "output_type": "stream",
          "text": [
            "\u001b[34m\u001b[1mtrain: \u001b[0mScanning /content/Tennis-Detection-2/train/labels... 1016 images, 7 backgrounds, 0 corrupt: 100%|██████████| 1016/1016 [00:00<00:00, 1795.16it/s]"
          ]
        },
        {
          "name": "stdout",
          "output_type": "stream",
          "text": [
            "\u001b[34m\u001b[1mtrain: \u001b[0mNew cache created: /content/Tennis-Detection-2/train/labels.cache\n"
          ]
        },
        {
          "name": "stderr",
          "output_type": "stream",
          "text": [
            "\n"
          ]
        },
        {
          "name": "stdout",
          "output_type": "stream",
          "text": [
            "\u001b[34m\u001b[1malbumentations: \u001b[0mBlur(p=0.01, blur_limit=(3, 7)), MedianBlur(p=0.01, blur_limit=(3, 7)), ToGray(p=0.01, method='weighted_average', num_output_channels=3), CLAHE(p=0.01, clip_limit=(1.0, 4.0), tile_grid_size=(8, 8))\n",
            "\u001b[34m\u001b[1mval: \u001b[0mFast image access ✅ (ping: 0.0±0.0 ms, read: 867.4±597.4 MB/s, size: 46.4 KB)\n"
          ]
        },
        {
          "name": "stderr",
          "output_type": "stream",
          "text": [
            "\u001b[34m\u001b[1mval: \u001b[0mScanning /content/Tennis-Detection-2/valid/labels... 24 images, 1 backgrounds, 0 corrupt: 100%|██████████| 24/24 [00:00<00:00, 736.18it/s]"
          ]
        },
        {
          "name": "stdout",
          "output_type": "stream",
          "text": [
            "\u001b[34m\u001b[1mval: \u001b[0mNew cache created: /content/Tennis-Detection-2/valid/labels.cache\n"
          ]
        },
        {
          "name": "stderr",
          "output_type": "stream",
          "text": [
            "\n"
          ]
        },
        {
          "name": "stdout",
          "output_type": "stream",
          "text": [
            "Plotting labels to runs/detect/train/labels.jpg... \n",
            "\u001b[34m\u001b[1moptimizer:\u001b[0m 'optimizer=auto' found, ignoring 'lr0=0.01' and 'momentum=0.937' and determining best 'optimizer', 'lr0' and 'momentum' automatically... \n",
            "\u001b[34m\u001b[1moptimizer:\u001b[0m AdamW(lr=0.002, momentum=0.9) with parameter groups 57 weight(decay=0.0), 64 weight(decay=0.00046875), 63 bias(decay=0.0)\n",
            "Image sizes 1280 train, 1280 val\n",
            "Using 2 dataloader workers\n",
            "Logging results to \u001b[1mruns/detect/train\u001b[0m\n",
            "Starting training for 80 epochs...\n",
            "\n",
            "      Epoch    GPU_mem   box_loss   cls_loss   dfl_loss  Instances       Size\n"
          ]
        },
        {
          "name": "stderr",
          "output_type": "stream",
          "text": [
            "       1/80      6.61G     0.4991      271.2      0.264         16       1280: 100%|██████████| 85/85 [01:32<00:00,  1.09s/it]\n",
            "                 Class     Images  Instances      Box(P          R      mAP50  mAP50-95): 100%|██████████| 1/1 [00:02<00:00,  2.77s/it]"
          ]
        },
        {
          "name": "stdout",
          "output_type": "stream",
          "text": [
            "                   all         24         23          0          0          0          0\n"
          ]
        },
        {
          "name": "stderr",
          "output_type": "stream",
          "text": [
            "\n"
          ]
        },
        {
          "name": "stdout",
          "output_type": "stream",
          "text": [
            "\n",
            "      Epoch    GPU_mem   box_loss   cls_loss   dfl_loss  Instances       Size\n"
          ]
        },
        {
          "name": "stderr",
          "output_type": "stream",
          "text": [
            "       2/80      5.62G      1.882      156.7     0.7936         10       1280: 100%|██████████| 85/85 [01:06<00:00,  1.28it/s]\n",
            "                 Class     Images  Instances      Box(P          R      mAP50  mAP50-95): 100%|██████████| 1/1 [00:00<00:00,  1.45it/s]"
          ]
        },
        {
          "name": "stdout",
          "output_type": "stream",
          "text": [
            "                   all         24         23          0          0          0          0\n"
          ]
        },
        {
          "name": "stderr",
          "output_type": "stream",
          "text": [
            "\n"
          ]
        },
        {
          "name": "stdout",
          "output_type": "stream",
          "text": [
            "\n",
            "      Epoch    GPU_mem   box_loss   cls_loss   dfl_loss  Instances       Size\n"
          ]
        },
        {
          "name": "stderr",
          "output_type": "stream",
          "text": [
            "       3/80      6.96G      4.046      38.23      1.507          9       1280: 100%|██████████| 85/85 [01:06<00:00,  1.28it/s]\n",
            "                 Class     Images  Instances      Box(P          R      mAP50  mAP50-95): 100%|██████████| 1/1 [00:00<00:00,  1.21it/s]"
          ]
        },
        {
          "name": "stdout",
          "output_type": "stream",
          "text": [
            "                   all         24         23     0.0473     0.0435     0.0459    0.00484\n"
          ]
        },
        {
          "name": "stderr",
          "output_type": "stream",
          "text": [
            "\n"
          ]
        },
        {
          "name": "stdout",
          "output_type": "stream",
          "text": [
            "\n",
            "      Epoch    GPU_mem   box_loss   cls_loss   dfl_loss  Instances       Size\n"
          ]
        },
        {
          "name": "stderr",
          "output_type": "stream",
          "text": [
            "       4/80      6.97G      3.506      11.47      1.307          6       1280: 100%|██████████| 85/85 [01:07<00:00,  1.25it/s]\n",
            "                 Class     Images  Instances      Box(P          R      mAP50  mAP50-95): 100%|██████████| 1/1 [00:00<00:00,  1.49it/s]"
          ]
        },
        {
          "name": "stdout",
          "output_type": "stream",
          "text": [
            "                   all         24         23      0.609      0.348      0.309     0.0737\n"
          ]
        },
        {
          "name": "stderr",
          "output_type": "stream",
          "text": [
            "\n"
          ]
        },
        {
          "name": "stdout",
          "output_type": "stream",
          "text": [
            "\n",
            "      Epoch    GPU_mem   box_loss   cls_loss   dfl_loss  Instances       Size\n"
          ]
        },
        {
          "name": "stderr",
          "output_type": "stream",
          "text": [
            "       5/80      6.99G      3.177       6.33      1.236         14       1280: 100%|██████████| 85/85 [01:07<00:00,  1.26it/s]\n",
            "                 Class     Images  Instances      Box(P          R      mAP50  mAP50-95): 100%|██████████| 1/1 [00:00<00:00,  1.88it/s]"
          ]
        },
        {
          "name": "stdout",
          "output_type": "stream",
          "text": [
            "                   all         24         23      0.595      0.522       0.43      0.152\n"
          ]
        },
        {
          "name": "stderr",
          "output_type": "stream",
          "text": [
            "\n"
          ]
        },
        {
          "name": "stdout",
          "output_type": "stream",
          "text": [
            "\n",
            "      Epoch    GPU_mem   box_loss   cls_loss   dfl_loss  Instances       Size\n"
          ]
        },
        {
          "name": "stderr",
          "output_type": "stream",
          "text": [
            "       6/80      7.01G      3.056       4.37      1.136         12       1280: 100%|██████████| 85/85 [01:07<00:00,  1.27it/s]\n",
            "                 Class     Images  Instances      Box(P          R      mAP50  mAP50-95): 100%|██████████| 1/1 [00:00<00:00,  1.82it/s]"
          ]
        },
        {
          "name": "stdout",
          "output_type": "stream",
          "text": [
            "                   all         24         23      0.565      0.435      0.439      0.137\n"
          ]
        },
        {
          "name": "stderr",
          "output_type": "stream",
          "text": [
            "\n"
          ]
        },
        {
          "name": "stdout",
          "output_type": "stream",
          "text": [
            "\n",
            "      Epoch    GPU_mem   box_loss   cls_loss   dfl_loss  Instances       Size\n"
          ]
        },
        {
          "name": "stderr",
          "output_type": "stream",
          "text": [
            "       7/80      7.02G      2.912       3.14      1.094         16       1280: 100%|██████████| 85/85 [01:06<00:00,  1.28it/s]\n",
            "                 Class     Images  Instances      Box(P          R      mAP50  mAP50-95): 100%|██████████| 1/1 [00:00<00:00,  1.76it/s]"
          ]
        },
        {
          "name": "stdout",
          "output_type": "stream",
          "text": [
            "                   all         24         23      0.821      0.565      0.657       0.22\n"
          ]
        },
        {
          "name": "stderr",
          "output_type": "stream",
          "text": [
            "\n"
          ]
        },
        {
          "name": "stdout",
          "output_type": "stream",
          "text": [
            "\n",
            "      Epoch    GPU_mem   box_loss   cls_loss   dfl_loss  Instances       Size\n"
          ]
        },
        {
          "name": "stderr",
          "output_type": "stream",
          "text": [
            "       8/80      7.04G      2.845      2.748      1.104         11       1280: 100%|██████████| 85/85 [01:06<00:00,  1.28it/s]\n",
            "                 Class     Images  Instances      Box(P          R      mAP50  mAP50-95): 100%|██████████| 1/1 [00:00<00:00,  2.09it/s]"
          ]
        },
        {
          "name": "stdout",
          "output_type": "stream",
          "text": [
            "                   all         24         23      0.603      0.529      0.605      0.159\n"
          ]
        },
        {
          "name": "stderr",
          "output_type": "stream",
          "text": [
            "\n"
          ]
        },
        {
          "name": "stdout",
          "output_type": "stream",
          "text": [
            "\n",
            "      Epoch    GPU_mem   box_loss   cls_loss   dfl_loss  Instances       Size\n"
          ]
        },
        {
          "name": "stderr",
          "output_type": "stream",
          "text": [
            "       9/80      7.06G      2.801      2.323      1.094         12       1280: 100%|██████████| 85/85 [01:15<00:00,  1.13it/s]\n",
            "                 Class     Images  Instances      Box(P          R      mAP50  mAP50-95): 100%|██████████| 1/1 [00:00<00:00,  2.07it/s]"
          ]
        },
        {
          "name": "stdout",
          "output_type": "stream",
          "text": [
            "                   all         24         23      0.629      0.565      0.563      0.176\n"
          ]
        },
        {
          "name": "stderr",
          "output_type": "stream",
          "text": [
            "\n"
          ]
        },
        {
          "name": "stdout",
          "output_type": "stream",
          "text": [
            "\n",
            "      Epoch    GPU_mem   box_loss   cls_loss   dfl_loss  Instances       Size\n"
          ]
        },
        {
          "name": "stderr",
          "output_type": "stream",
          "text": [
            "      10/80      7.08G      2.811      2.217      1.086         10       1280: 100%|██████████| 85/85 [01:19<00:00,  1.07it/s]\n",
            "                 Class     Images  Instances      Box(P          R      mAP50  mAP50-95): 100%|██████████| 1/1 [00:00<00:00,  1.63it/s]"
          ]
        },
        {
          "name": "stdout",
          "output_type": "stream",
          "text": [
            "                   all         24         23      0.717      0.522      0.568      0.191\n"
          ]
        },
        {
          "name": "stderr",
          "output_type": "stream",
          "text": [
            "\n"
          ]
        },
        {
          "name": "stdout",
          "output_type": "stream",
          "text": [
            "\n",
            "      Epoch    GPU_mem   box_loss   cls_loss   dfl_loss  Instances       Size\n"
          ]
        },
        {
          "name": "stderr",
          "output_type": "stream",
          "text": [
            "      11/80      7.09G      2.715       1.93      1.061          9       1280: 100%|██████████| 85/85 [01:06<00:00,  1.28it/s]\n",
            "                 Class     Images  Instances      Box(P          R      mAP50  mAP50-95): 100%|██████████| 1/1 [00:00<00:00,  2.05it/s]"
          ]
        },
        {
          "name": "stdout",
          "output_type": "stream",
          "text": [
            "                   all         24         23      0.692      0.696      0.635      0.201\n"
          ]
        },
        {
          "name": "stderr",
          "output_type": "stream",
          "text": [
            "\n"
          ]
        },
        {
          "name": "stdout",
          "output_type": "stream",
          "text": [
            "\n",
            "      Epoch    GPU_mem   box_loss   cls_loss   dfl_loss  Instances       Size\n"
          ]
        },
        {
          "name": "stderr",
          "output_type": "stream",
          "text": [
            "      12/80      7.11G      2.662      1.798      1.031          9       1280: 100%|██████████| 85/85 [01:08<00:00,  1.25it/s]\n",
            "                 Class     Images  Instances      Box(P          R      mAP50  mAP50-95): 100%|██████████| 1/1 [00:00<00:00,  1.89it/s]"
          ]
        },
        {
          "name": "stdout",
          "output_type": "stream",
          "text": [
            "                   all         24         23      0.532      0.739        0.6       0.18\n"
          ]
        },
        {
          "name": "stderr",
          "output_type": "stream",
          "text": [
            "\n"
          ]
        },
        {
          "name": "stdout",
          "output_type": "stream",
          "text": [
            "\n",
            "      Epoch    GPU_mem   box_loss   cls_loss   dfl_loss  Instances       Size\n"
          ]
        },
        {
          "name": "stderr",
          "output_type": "stream",
          "text": [
            "      13/80      7.13G      2.625      1.746      1.041         14       1280: 100%|██████████| 85/85 [01:06<00:00,  1.27it/s]\n",
            "                 Class     Images  Instances      Box(P          R      mAP50  mAP50-95): 100%|██████████| 1/1 [00:00<00:00,  1.41it/s]"
          ]
        },
        {
          "name": "stdout",
          "output_type": "stream",
          "text": [
            "                   all         24         23      0.585      0.565      0.598       0.22\n"
          ]
        },
        {
          "name": "stderr",
          "output_type": "stream",
          "text": [
            "\n"
          ]
        },
        {
          "name": "stdout",
          "output_type": "stream",
          "text": [
            "\n",
            "      Epoch    GPU_mem   box_loss   cls_loss   dfl_loss  Instances       Size\n"
          ]
        },
        {
          "name": "stderr",
          "output_type": "stream",
          "text": [
            "      14/80      7.14G      2.585      1.623      1.043          4       1280: 100%|██████████| 85/85 [01:08<00:00,  1.24it/s]\n",
            "                 Class     Images  Instances      Box(P          R      mAP50  mAP50-95): 100%|██████████| 1/1 [00:00<00:00,  1.64it/s]"
          ]
        },
        {
          "name": "stdout",
          "output_type": "stream",
          "text": [
            "                   all         24         23      0.658      0.753      0.741      0.326\n"
          ]
        },
        {
          "name": "stderr",
          "output_type": "stream",
          "text": [
            "\n"
          ]
        },
        {
          "name": "stdout",
          "output_type": "stream",
          "text": [
            "\n",
            "      Epoch    GPU_mem   box_loss   cls_loss   dfl_loss  Instances       Size\n"
          ]
        },
        {
          "name": "stderr",
          "output_type": "stream",
          "text": [
            "      15/80      7.16G      2.504      1.536      1.028          8       1280: 100%|██████████| 85/85 [01:06<00:00,  1.27it/s]\n",
            "                 Class     Images  Instances      Box(P          R      mAP50  mAP50-95): 100%|██████████| 1/1 [00:00<00:00,  1.95it/s]"
          ]
        },
        {
          "name": "stdout",
          "output_type": "stream",
          "text": [
            "                   all         24         23      0.759       0.82      0.776      0.314\n"
          ]
        },
        {
          "name": "stderr",
          "output_type": "stream",
          "text": [
            "\n"
          ]
        },
        {
          "name": "stdout",
          "output_type": "stream",
          "text": [
            "\n",
            "      Epoch    GPU_mem   box_loss   cls_loss   dfl_loss  Instances       Size\n"
          ]
        },
        {
          "name": "stderr",
          "output_type": "stream",
          "text": [
            "      16/80      7.18G      2.519      1.468      1.021          8       1280: 100%|██████████| 85/85 [01:08<00:00,  1.23it/s]\n",
            "                 Class     Images  Instances      Box(P          R      mAP50  mAP50-95): 100%|██████████| 1/1 [00:00<00:00,  1.55it/s]"
          ]
        },
        {
          "name": "stdout",
          "output_type": "stream",
          "text": [
            "                   all         24         23       0.71      0.783      0.749       0.24\n"
          ]
        },
        {
          "name": "stderr",
          "output_type": "stream",
          "text": [
            "\n"
          ]
        },
        {
          "name": "stdout",
          "output_type": "stream",
          "text": [
            "\n",
            "      Epoch    GPU_mem   box_loss   cls_loss   dfl_loss  Instances       Size\n"
          ]
        },
        {
          "name": "stderr",
          "output_type": "stream",
          "text": [
            "      17/80       7.2G      2.542      1.488      1.004         12       1280: 100%|██████████| 85/85 [01:06<00:00,  1.27it/s]\n",
            "                 Class     Images  Instances      Box(P          R      mAP50  mAP50-95): 100%|██████████| 1/1 [00:00<00:00,  1.98it/s]"
          ]
        },
        {
          "name": "stdout",
          "output_type": "stream",
          "text": [
            "                   all         24         23      0.678      0.696      0.745      0.245\n"
          ]
        },
        {
          "name": "stderr",
          "output_type": "stream",
          "text": [
            "\n"
          ]
        },
        {
          "name": "stdout",
          "output_type": "stream",
          "text": [
            "\n",
            "      Epoch    GPU_mem   box_loss   cls_loss   dfl_loss  Instances       Size\n"
          ]
        },
        {
          "name": "stderr",
          "output_type": "stream",
          "text": [
            "      18/80      7.21G      2.462      1.418      1.016         11       1280: 100%|██████████| 85/85 [01:06<00:00,  1.27it/s]\n",
            "                 Class     Images  Instances      Box(P          R      mAP50  mAP50-95): 100%|██████████| 1/1 [00:00<00:00,  1.46it/s]"
          ]
        },
        {
          "name": "stdout",
          "output_type": "stream",
          "text": [
            "                   all         24         23      0.647      0.783      0.696       0.25\n"
          ]
        },
        {
          "name": "stderr",
          "output_type": "stream",
          "text": [
            "\n"
          ]
        },
        {
          "name": "stdout",
          "output_type": "stream",
          "text": [
            "\n",
            "      Epoch    GPU_mem   box_loss   cls_loss   dfl_loss  Instances       Size\n"
          ]
        },
        {
          "name": "stderr",
          "output_type": "stream",
          "text": [
            "      19/80      7.23G      2.493      1.414     0.9974          8       1280: 100%|██████████| 85/85 [01:09<00:00,  1.22it/s]\n",
            "                 Class     Images  Instances      Box(P          R      mAP50  mAP50-95): 100%|██████████| 1/1 [00:00<00:00,  1.72it/s]"
          ]
        },
        {
          "name": "stdout",
          "output_type": "stream",
          "text": [
            "                   all         24         23      0.814      0.783      0.764        0.3\n"
          ]
        },
        {
          "name": "stderr",
          "output_type": "stream",
          "text": [
            "\n"
          ]
        },
        {
          "name": "stdout",
          "output_type": "stream",
          "text": [
            "\n",
            "      Epoch    GPU_mem   box_loss   cls_loss   dfl_loss  Instances       Size\n"
          ]
        },
        {
          "name": "stderr",
          "output_type": "stream",
          "text": [
            "      20/80      7.25G      2.444      1.375       1.01          6       1280: 100%|██████████| 85/85 [01:07<00:00,  1.26it/s]\n",
            "                 Class     Images  Instances      Box(P          R      mAP50  mAP50-95): 100%|██████████| 1/1 [00:00<00:00,  1.90it/s]"
          ]
        },
        {
          "name": "stdout",
          "output_type": "stream",
          "text": [
            "                   all         24         23       0.73      0.652      0.666      0.232\n"
          ]
        },
        {
          "name": "stderr",
          "output_type": "stream",
          "text": [
            "\n"
          ]
        },
        {
          "name": "stdout",
          "output_type": "stream",
          "text": [
            "\n",
            "      Epoch    GPU_mem   box_loss   cls_loss   dfl_loss  Instances       Size\n"
          ]
        },
        {
          "name": "stderr",
          "output_type": "stream",
          "text": [
            "      21/80      7.27G      2.507      1.338      1.003         14       1280: 100%|██████████| 85/85 [01:08<00:00,  1.25it/s]\n",
            "                 Class     Images  Instances      Box(P          R      mAP50  mAP50-95): 100%|██████████| 1/1 [00:00<00:00,  2.12it/s]"
          ]
        },
        {
          "name": "stdout",
          "output_type": "stream",
          "text": [
            "                   all         24         23      0.674      0.739      0.763      0.277\n"
          ]
        },
        {
          "name": "stderr",
          "output_type": "stream",
          "text": [
            "\n"
          ]
        },
        {
          "name": "stdout",
          "output_type": "stream",
          "text": [
            "\n",
            "      Epoch    GPU_mem   box_loss   cls_loss   dfl_loss  Instances       Size\n"
          ]
        },
        {
          "name": "stderr",
          "output_type": "stream",
          "text": [
            "      22/80      7.28G      2.435      1.291     0.9905         15       1280: 100%|██████████| 85/85 [01:06<00:00,  1.28it/s]\n",
            "                 Class     Images  Instances      Box(P          R      mAP50  mAP50-95): 100%|██████████| 1/1 [00:00<00:00,  1.76it/s]"
          ]
        },
        {
          "name": "stdout",
          "output_type": "stream",
          "text": [
            "                   all         24         23       0.84      0.686      0.754      0.268\n"
          ]
        },
        {
          "name": "stderr",
          "output_type": "stream",
          "text": [
            "\n"
          ]
        },
        {
          "name": "stdout",
          "output_type": "stream",
          "text": [
            "\n",
            "      Epoch    GPU_mem   box_loss   cls_loss   dfl_loss  Instances       Size\n"
          ]
        },
        {
          "name": "stderr",
          "output_type": "stream",
          "text": [
            "      23/80       7.3G      2.431      1.344     0.9961          6       1280: 100%|██████████| 85/85 [01:07<00:00,  1.25it/s]\n",
            "                 Class     Images  Instances      Box(P          R      mAP50  mAP50-95): 100%|██████████| 1/1 [00:00<00:00,  1.41it/s]"
          ]
        },
        {
          "name": "stdout",
          "output_type": "stream",
          "text": [
            "                   all         24         23      0.824      0.826      0.829      0.285\n"
          ]
        },
        {
          "name": "stderr",
          "output_type": "stream",
          "text": [
            "\n"
          ]
        },
        {
          "name": "stdout",
          "output_type": "stream",
          "text": [
            "\n",
            "      Epoch    GPU_mem   box_loss   cls_loss   dfl_loss  Instances       Size\n"
          ]
        },
        {
          "name": "stderr",
          "output_type": "stream",
          "text": [
            "      24/80      7.32G      2.351      1.246     0.9946         11       1280: 100%|██████████| 85/85 [01:06<00:00,  1.27it/s]\n",
            "                 Class     Images  Instances      Box(P          R      mAP50  mAP50-95): 100%|██████████| 1/1 [00:00<00:00,  1.64it/s]"
          ]
        },
        {
          "name": "stdout",
          "output_type": "stream",
          "text": [
            "                   all         24         23       0.78      0.783      0.764      0.275\n"
          ]
        },
        {
          "name": "stderr",
          "output_type": "stream",
          "text": [
            "\n"
          ]
        },
        {
          "name": "stdout",
          "output_type": "stream",
          "text": [
            "\n",
            "      Epoch    GPU_mem   box_loss   cls_loss   dfl_loss  Instances       Size\n"
          ]
        },
        {
          "name": "stderr",
          "output_type": "stream",
          "text": [
            "      25/80      7.33G      2.425       1.27     0.9942         12       1280: 100%|██████████| 85/85 [01:06<00:00,  1.27it/s]\n",
            "                 Class     Images  Instances      Box(P          R      mAP50  mAP50-95): 100%|██████████| 1/1 [00:00<00:00,  1.68it/s]"
          ]
        },
        {
          "name": "stdout",
          "output_type": "stream",
          "text": [
            "                   all         24         23      0.647      0.798      0.706       0.28\n"
          ]
        },
        {
          "name": "stderr",
          "output_type": "stream",
          "text": [
            "\n"
          ]
        },
        {
          "name": "stdout",
          "output_type": "stream",
          "text": [
            "\n",
            "      Epoch    GPU_mem   box_loss   cls_loss   dfl_loss  Instances       Size\n"
          ]
        },
        {
          "name": "stderr",
          "output_type": "stream",
          "text": [
            "      26/80      7.35G      2.443      1.263      1.011         11       1280: 100%|██████████| 85/85 [01:06<00:00,  1.28it/s]\n",
            "                 Class     Images  Instances      Box(P          R      mAP50  mAP50-95): 100%|██████████| 1/1 [00:00<00:00,  1.62it/s]"
          ]
        },
        {
          "name": "stdout",
          "output_type": "stream",
          "text": [
            "                   all         24         23      0.687      0.765       0.72      0.275\n"
          ]
        },
        {
          "name": "stderr",
          "output_type": "stream",
          "text": [
            "\n"
          ]
        },
        {
          "name": "stdout",
          "output_type": "stream",
          "text": [
            "\n",
            "      Epoch    GPU_mem   box_loss   cls_loss   dfl_loss  Instances       Size\n"
          ]
        },
        {
          "name": "stderr",
          "output_type": "stream",
          "text": [
            "      27/80      7.37G      2.372      1.221      1.007         17       1280: 100%|██████████| 85/85 [01:08<00:00,  1.24it/s]\n",
            "                 Class     Images  Instances      Box(P          R      mAP50  mAP50-95): 100%|██████████| 1/1 [00:00<00:00,  1.58it/s]"
          ]
        },
        {
          "name": "stdout",
          "output_type": "stream",
          "text": [
            "                   all         24         23       0.76      0.696      0.728      0.275\n"
          ]
        },
        {
          "name": "stderr",
          "output_type": "stream",
          "text": [
            "\n"
          ]
        },
        {
          "name": "stdout",
          "output_type": "stream",
          "text": [
            "\n",
            "      Epoch    GPU_mem   box_loss   cls_loss   dfl_loss  Instances       Size\n"
          ]
        },
        {
          "name": "stderr",
          "output_type": "stream",
          "text": [
            "      28/80      5.83G      2.366      1.232     0.9979          8       1280: 100%|██████████| 85/85 [01:06<00:00,  1.27it/s]\n",
            "                 Class     Images  Instances      Box(P          R      mAP50  mAP50-95): 100%|██████████| 1/1 [00:00<00:00,  1.51it/s]"
          ]
        },
        {
          "name": "stdout",
          "output_type": "stream",
          "text": [
            "                   all         24         23      0.823      0.739      0.761      0.295\n"
          ]
        },
        {
          "name": "stderr",
          "output_type": "stream",
          "text": [
            "\n"
          ]
        },
        {
          "name": "stdout",
          "output_type": "stream",
          "text": [
            "\n",
            "      Epoch    GPU_mem   box_loss   cls_loss   dfl_loss  Instances       Size\n"
          ]
        },
        {
          "name": "stderr",
          "output_type": "stream",
          "text": [
            "      29/80      7.15G       2.41      1.181     0.9953         14       1280: 100%|██████████| 85/85 [01:07<00:00,  1.25it/s]\n",
            "                 Class     Images  Instances      Box(P          R      mAP50  mAP50-95): 100%|██████████| 1/1 [00:00<00:00,  1.49it/s]"
          ]
        },
        {
          "name": "stdout",
          "output_type": "stream",
          "text": [
            "                   all         24         23      0.748      0.902      0.819      0.287\n"
          ]
        },
        {
          "name": "stderr",
          "output_type": "stream",
          "text": [
            "\n"
          ]
        },
        {
          "name": "stdout",
          "output_type": "stream",
          "text": [
            "\n",
            "      Epoch    GPU_mem   box_loss   cls_loss   dfl_loss  Instances       Size\n"
          ]
        },
        {
          "name": "stderr",
          "output_type": "stream",
          "text": [
            "      30/80      7.15G      2.376      1.221      1.021         11       1280: 100%|██████████| 85/85 [01:08<00:00,  1.25it/s]\n",
            "                 Class     Images  Instances      Box(P          R      mAP50  mAP50-95): 100%|██████████| 1/1 [00:00<00:00,  1.74it/s]"
          ]
        },
        {
          "name": "stdout",
          "output_type": "stream",
          "text": [
            "                   all         24         23      0.801      0.783      0.728      0.285\n"
          ]
        },
        {
          "name": "stderr",
          "output_type": "stream",
          "text": [
            "\n"
          ]
        },
        {
          "name": "stdout",
          "output_type": "stream",
          "text": [
            "\n",
            "      Epoch    GPU_mem   box_loss   cls_loss   dfl_loss  Instances       Size\n"
          ]
        },
        {
          "name": "stderr",
          "output_type": "stream",
          "text": [
            "      31/80      7.15G      2.315      1.151     0.9901         13       1280: 100%|██████████| 85/85 [01:06<00:00,  1.28it/s]\n",
            "                 Class     Images  Instances      Box(P          R      mAP50  mAP50-95): 100%|██████████| 1/1 [00:00<00:00,  1.92it/s]"
          ]
        },
        {
          "name": "stdout",
          "output_type": "stream",
          "text": [
            "                   all         24         23      0.735       0.87      0.777      0.253\n"
          ]
        },
        {
          "name": "stderr",
          "output_type": "stream",
          "text": [
            "\n"
          ]
        },
        {
          "name": "stdout",
          "output_type": "stream",
          "text": [
            "\n",
            "      Epoch    GPU_mem   box_loss   cls_loss   dfl_loss  Instances       Size\n"
          ]
        },
        {
          "name": "stderr",
          "output_type": "stream",
          "text": [
            "      32/80      7.15G      2.357      1.191     0.9942          5       1280: 100%|██████████| 85/85 [01:06<00:00,  1.28it/s]\n",
            "                 Class     Images  Instances      Box(P          R      mAP50  mAP50-95): 100%|██████████| 1/1 [00:00<00:00,  2.06it/s]"
          ]
        },
        {
          "name": "stdout",
          "output_type": "stream",
          "text": [
            "                   all         24         23      0.758       0.87      0.793      0.263\n"
          ]
        },
        {
          "name": "stderr",
          "output_type": "stream",
          "text": [
            "\n"
          ]
        },
        {
          "name": "stdout",
          "output_type": "stream",
          "text": [
            "\n",
            "      Epoch    GPU_mem   box_loss   cls_loss   dfl_loss  Instances       Size\n"
          ]
        },
        {
          "name": "stderr",
          "output_type": "stream",
          "text": [
            "      33/80      7.15G      2.331      1.208     0.9667          7       1280: 100%|██████████| 85/85 [01:07<00:00,  1.25it/s]\n",
            "                 Class     Images  Instances      Box(P          R      mAP50  mAP50-95): 100%|██████████| 1/1 [00:00<00:00,  1.57it/s]"
          ]
        },
        {
          "name": "stdout",
          "output_type": "stream",
          "text": [
            "                   all         24         23      0.692       0.88      0.777      0.265\n"
          ]
        },
        {
          "name": "stderr",
          "output_type": "stream",
          "text": [
            "\n"
          ]
        },
        {
          "name": "stdout",
          "output_type": "stream",
          "text": [
            "\n",
            "      Epoch    GPU_mem   box_loss   cls_loss   dfl_loss  Instances       Size\n"
          ]
        },
        {
          "name": "stderr",
          "output_type": "stream",
          "text": [
            "      34/80      7.15G       2.29      1.139     0.9716         12       1280: 100%|██████████| 85/85 [01:08<00:00,  1.23it/s]\n",
            "                 Class     Images  Instances      Box(P          R      mAP50  mAP50-95): 100%|██████████| 1/1 [00:00<00:00,  1.33it/s]"
          ]
        },
        {
          "name": "stdout",
          "output_type": "stream",
          "text": [
            "                   all         24         23      0.857      0.783      0.801      0.286\n"
          ]
        },
        {
          "name": "stderr",
          "output_type": "stream",
          "text": [
            "\n"
          ]
        },
        {
          "name": "stdout",
          "output_type": "stream",
          "text": [
            "\n",
            "      Epoch    GPU_mem   box_loss   cls_loss   dfl_loss  Instances       Size\n"
          ]
        },
        {
          "name": "stderr",
          "output_type": "stream",
          "text": [
            "      35/80      7.15G      2.286      1.117      0.972         15       1280: 100%|██████████| 85/85 [01:09<00:00,  1.23it/s]\n",
            "                 Class     Images  Instances      Box(P          R      mAP50  mAP50-95): 100%|██████████| 1/1 [00:00<00:00,  1.91it/s]"
          ]
        },
        {
          "name": "stdout",
          "output_type": "stream",
          "text": [
            "                   all         24         23      0.686      0.855      0.751      0.333\n"
          ]
        },
        {
          "name": "stderr",
          "output_type": "stream",
          "text": [
            "\n"
          ]
        },
        {
          "name": "stdout",
          "output_type": "stream",
          "text": [
            "\n",
            "      Epoch    GPU_mem   box_loss   cls_loss   dfl_loss  Instances       Size\n"
          ]
        },
        {
          "name": "stderr",
          "output_type": "stream",
          "text": [
            "      36/80      7.15G      2.308      1.134     0.9753          9       1280: 100%|██████████| 85/85 [01:07<00:00,  1.27it/s]\n",
            "                 Class     Images  Instances      Box(P          R      mAP50  mAP50-95): 100%|██████████| 1/1 [00:00<00:00,  1.68it/s]"
          ]
        },
        {
          "name": "stdout",
          "output_type": "stream",
          "text": [
            "                   all         24         23      0.763      0.826      0.802      0.265\n"
          ]
        },
        {
          "name": "stderr",
          "output_type": "stream",
          "text": [
            "\n"
          ]
        },
        {
          "name": "stdout",
          "output_type": "stream",
          "text": [
            "\n",
            "      Epoch    GPU_mem   box_loss   cls_loss   dfl_loss  Instances       Size\n"
          ]
        },
        {
          "name": "stderr",
          "output_type": "stream",
          "text": [
            "      37/80      7.15G      2.268      1.128     0.9638         10       1280: 100%|██████████| 85/85 [01:07<00:00,  1.27it/s]\n",
            "                 Class     Images  Instances      Box(P          R      mAP50  mAP50-95): 100%|██████████| 1/1 [00:00<00:00,  1.92it/s]"
          ]
        },
        {
          "name": "stdout",
          "output_type": "stream",
          "text": [
            "                   all         24         23      0.863      0.821      0.848      0.326\n"
          ]
        },
        {
          "name": "stderr",
          "output_type": "stream",
          "text": [
            "\n"
          ]
        },
        {
          "name": "stdout",
          "output_type": "stream",
          "text": [
            "\n",
            "      Epoch    GPU_mem   box_loss   cls_loss   dfl_loss  Instances       Size\n"
          ]
        },
        {
          "name": "stderr",
          "output_type": "stream",
          "text": [
            "      38/80      7.15G      2.255      1.132     0.9552         17       1280: 100%|██████████| 85/85 [01:06<00:00,  1.27it/s]\n",
            "                 Class     Images  Instances      Box(P          R      mAP50  mAP50-95): 100%|██████████| 1/1 [00:00<00:00,  2.11it/s]"
          ]
        },
        {
          "name": "stdout",
          "output_type": "stream",
          "text": [
            "                   all         24         23      0.832      0.862      0.813      0.318\n"
          ]
        },
        {
          "name": "stderr",
          "output_type": "stream",
          "text": [
            "\n"
          ]
        },
        {
          "name": "stdout",
          "output_type": "stream",
          "text": [
            "\n",
            "      Epoch    GPU_mem   box_loss   cls_loss   dfl_loss  Instances       Size\n"
          ]
        },
        {
          "name": "stderr",
          "output_type": "stream",
          "text": [
            "      39/80      7.15G      2.286      1.087     0.9999          9       1280: 100%|██████████| 85/85 [01:06<00:00,  1.29it/s]\n",
            "                 Class     Images  Instances      Box(P          R      mAP50  mAP50-95): 100%|██████████| 1/1 [00:00<00:00,  1.56it/s]"
          ]
        },
        {
          "name": "stdout",
          "output_type": "stream",
          "text": [
            "                   all         24         23      0.804      0.826      0.829      0.317\n"
          ]
        },
        {
          "name": "stderr",
          "output_type": "stream",
          "text": [
            "\n"
          ]
        },
        {
          "name": "stdout",
          "output_type": "stream",
          "text": [
            "\n",
            "      Epoch    GPU_mem   box_loss   cls_loss   dfl_loss  Instances       Size\n"
          ]
        },
        {
          "name": "stderr",
          "output_type": "stream",
          "text": [
            "      40/80      7.15G      2.291       1.06     0.9749         10       1280: 100%|██████████| 85/85 [01:08<00:00,  1.25it/s]\n",
            "                 Class     Images  Instances      Box(P          R      mAP50  mAP50-95): 100%|██████████| 1/1 [00:00<00:00,  1.96it/s]"
          ]
        },
        {
          "name": "stdout",
          "output_type": "stream",
          "text": [
            "                   all         24         23      0.892      0.913      0.856      0.306\n"
          ]
        },
        {
          "name": "stderr",
          "output_type": "stream",
          "text": [
            "\n"
          ]
        },
        {
          "name": "stdout",
          "output_type": "stream",
          "text": [
            "\n",
            "      Epoch    GPU_mem   box_loss   cls_loss   dfl_loss  Instances       Size\n"
          ]
        },
        {
          "name": "stderr",
          "output_type": "stream",
          "text": [
            "      41/80      7.16G      2.263      1.118     0.9623         13       1280: 100%|██████████| 85/85 [01:07<00:00,  1.27it/s]\n",
            "                 Class     Images  Instances      Box(P          R      mAP50  mAP50-95): 100%|██████████| 1/1 [00:00<00:00,  1.40it/s]"
          ]
        },
        {
          "name": "stdout",
          "output_type": "stream",
          "text": [
            "                   all         24         23      0.733       0.87      0.798      0.283\n"
          ]
        },
        {
          "name": "stderr",
          "output_type": "stream",
          "text": [
            "\n"
          ]
        },
        {
          "name": "stdout",
          "output_type": "stream",
          "text": [
            "\n",
            "      Epoch    GPU_mem   box_loss   cls_loss   dfl_loss  Instances       Size\n"
          ]
        },
        {
          "name": "stderr",
          "output_type": "stream",
          "text": [
            "      42/80      7.18G      2.291      1.096     0.9817          9       1280: 100%|██████████| 85/85 [01:06<00:00,  1.28it/s]\n",
            "                 Class     Images  Instances      Box(P          R      mAP50  mAP50-95): 100%|██████████| 1/1 [00:00<00:00,  1.56it/s]"
          ]
        },
        {
          "name": "stdout",
          "output_type": "stream",
          "text": [
            "                   all         24         23      0.816      0.771      0.732      0.274\n"
          ]
        },
        {
          "name": "stderr",
          "output_type": "stream",
          "text": [
            "\n"
          ]
        },
        {
          "name": "stdout",
          "output_type": "stream",
          "text": [
            "\n",
            "      Epoch    GPU_mem   box_loss   cls_loss   dfl_loss  Instances       Size\n"
          ]
        },
        {
          "name": "stderr",
          "output_type": "stream",
          "text": [
            "      43/80       7.2G       2.28      1.098     0.9585          9       1280: 100%|██████████| 85/85 [01:06<00:00,  1.28it/s]\n",
            "                 Class     Images  Instances      Box(P          R      mAP50  mAP50-95): 100%|██████████| 1/1 [00:00<00:00,  2.00it/s]"
          ]
        },
        {
          "name": "stdout",
          "output_type": "stream",
          "text": [
            "                   all         24         23      0.669      0.826      0.732       0.27\n"
          ]
        },
        {
          "name": "stderr",
          "output_type": "stream",
          "text": [
            "\n"
          ]
        },
        {
          "name": "stdout",
          "output_type": "stream",
          "text": [
            "\n",
            "      Epoch    GPU_mem   box_loss   cls_loss   dfl_loss  Instances       Size\n"
          ]
        },
        {
          "name": "stderr",
          "output_type": "stream",
          "text": [
            "      44/80      7.21G      2.236      1.083     0.9683         13       1280: 100%|██████████| 85/85 [01:08<00:00,  1.24it/s]\n",
            "                 Class     Images  Instances      Box(P          R      mAP50  mAP50-95): 100%|██████████| 1/1 [00:00<00:00,  2.03it/s]"
          ]
        },
        {
          "name": "stdout",
          "output_type": "stream",
          "text": [
            "                   all         24         23      0.847      0.783      0.776      0.307\n"
          ]
        },
        {
          "name": "stderr",
          "output_type": "stream",
          "text": [
            "\n"
          ]
        },
        {
          "name": "stdout",
          "output_type": "stream",
          "text": [
            "\n",
            "      Epoch    GPU_mem   box_loss   cls_loss   dfl_loss  Instances       Size\n"
          ]
        },
        {
          "name": "stderr",
          "output_type": "stream",
          "text": [
            "      45/80      7.23G      2.319      1.154      1.002         11       1280: 100%|██████████| 85/85 [01:07<00:00,  1.26it/s]\n",
            "                 Class     Images  Instances      Box(P          R      mAP50  mAP50-95): 100%|██████████| 1/1 [00:00<00:00,  1.42it/s]"
          ]
        },
        {
          "name": "stdout",
          "output_type": "stream",
          "text": [
            "                   all         24         23      0.872       0.87      0.852      0.312\n"
          ]
        },
        {
          "name": "stderr",
          "output_type": "stream",
          "text": [
            "\n"
          ]
        },
        {
          "name": "stdout",
          "output_type": "stream",
          "text": [
            "\n",
            "      Epoch    GPU_mem   box_loss   cls_loss   dfl_loss  Instances       Size\n"
          ]
        },
        {
          "name": "stderr",
          "output_type": "stream",
          "text": [
            "      46/80      7.25G      2.206      1.041     0.9718         10       1280: 100%|██████████| 85/85 [01:07<00:00,  1.25it/s]\n",
            "                 Class     Images  Instances      Box(P          R      mAP50  mAP50-95): 100%|██████████| 1/1 [00:00<00:00,  1.72it/s]"
          ]
        },
        {
          "name": "stdout",
          "output_type": "stream",
          "text": [
            "                   all         24         23      0.806      0.903      0.817      0.281\n"
          ]
        },
        {
          "name": "stderr",
          "output_type": "stream",
          "text": [
            "\n"
          ]
        },
        {
          "name": "stdout",
          "output_type": "stream",
          "text": [
            "\n",
            "      Epoch    GPU_mem   box_loss   cls_loss   dfl_loss  Instances       Size\n"
          ]
        },
        {
          "name": "stderr",
          "output_type": "stream",
          "text": [
            "      47/80      7.27G      2.268      1.055     0.9663          8       1280: 100%|██████████| 85/85 [01:07<00:00,  1.25it/s]\n",
            "                 Class     Images  Instances      Box(P          R      mAP50  mAP50-95): 100%|██████████| 1/1 [00:00<00:00,  1.98it/s]"
          ]
        },
        {
          "name": "stdout",
          "output_type": "stream",
          "text": [
            "                   all         24         23      0.743      0.882      0.812      0.293\n"
          ]
        },
        {
          "name": "stderr",
          "output_type": "stream",
          "text": [
            "\n"
          ]
        },
        {
          "name": "stdout",
          "output_type": "stream",
          "text": [
            "\n",
            "      Epoch    GPU_mem   box_loss   cls_loss   dfl_loss  Instances       Size\n"
          ]
        },
        {
          "name": "stderr",
          "output_type": "stream",
          "text": [
            "      48/80      7.28G      2.234       1.07     0.9568         16       1280: 100%|██████████| 85/85 [01:08<00:00,  1.25it/s]\n",
            "                 Class     Images  Instances      Box(P          R      mAP50  mAP50-95): 100%|██████████| 1/1 [00:00<00:00,  1.98it/s]"
          ]
        },
        {
          "name": "stdout",
          "output_type": "stream",
          "text": [
            "                   all         24         23      0.801       0.87      0.842      0.328\n"
          ]
        },
        {
          "name": "stderr",
          "output_type": "stream",
          "text": [
            "\n"
          ]
        },
        {
          "name": "stdout",
          "output_type": "stream",
          "text": [
            "\n",
            "      Epoch    GPU_mem   box_loss   cls_loss   dfl_loss  Instances       Size\n"
          ]
        },
        {
          "name": "stderr",
          "output_type": "stream",
          "text": [
            "      49/80       7.3G      2.166      1.045     0.9611          7       1280: 100%|██████████| 85/85 [01:09<00:00,  1.22it/s]\n",
            "                 Class     Images  Instances      Box(P          R      mAP50  mAP50-95): 100%|██████████| 1/1 [00:00<00:00,  1.99it/s]"
          ]
        },
        {
          "name": "stdout",
          "output_type": "stream",
          "text": [
            "                   all         24         23      0.813      0.826      0.766      0.262\n"
          ]
        },
        {
          "name": "stderr",
          "output_type": "stream",
          "text": [
            "\n"
          ]
        },
        {
          "name": "stdout",
          "output_type": "stream",
          "text": [
            "\n",
            "      Epoch    GPU_mem   box_loss   cls_loss   dfl_loss  Instances       Size\n"
          ]
        },
        {
          "name": "stderr",
          "output_type": "stream",
          "text": [
            "      50/80      7.32G      2.217      1.081     0.9727          5       1280: 100%|██████████| 85/85 [01:08<00:00,  1.25it/s]\n",
            "                 Class     Images  Instances      Box(P          R      mAP50  mAP50-95): 100%|██████████| 1/1 [00:00<00:00,  1.44it/s]"
          ]
        },
        {
          "name": "stdout",
          "output_type": "stream",
          "text": [
            "                   all         24         23      0.831      0.857      0.816      0.293\n"
          ]
        },
        {
          "name": "stderr",
          "output_type": "stream",
          "text": [
            "\n"
          ]
        },
        {
          "name": "stdout",
          "output_type": "stream",
          "text": [
            "\n",
            "      Epoch    GPU_mem   box_loss   cls_loss   dfl_loss  Instances       Size\n"
          ]
        },
        {
          "name": "stderr",
          "output_type": "stream",
          "text": [
            "      51/80      7.33G      2.219      1.066     0.9674          4       1280: 100%|██████████| 85/85 [01:08<00:00,  1.25it/s]\n",
            "                 Class     Images  Instances      Box(P          R      mAP50  mAP50-95): 100%|██████████| 1/1 [00:00<00:00,  2.02it/s]"
          ]
        },
        {
          "name": "stdout",
          "output_type": "stream",
          "text": [
            "                   all         24         23        0.8      0.871       0.84      0.302\n"
          ]
        },
        {
          "name": "stderr",
          "output_type": "stream",
          "text": [
            "\n"
          ]
        },
        {
          "name": "stdout",
          "output_type": "stream",
          "text": [
            "\n",
            "      Epoch    GPU_mem   box_loss   cls_loss   dfl_loss  Instances       Size\n"
          ]
        },
        {
          "name": "stderr",
          "output_type": "stream",
          "text": [
            "      52/80      7.35G      2.182       1.05     0.9465          7       1280: 100%|██████████| 85/85 [01:06<00:00,  1.27it/s]\n",
            "                 Class     Images  Instances      Box(P          R      mAP50  mAP50-95): 100%|██████████| 1/1 [00:00<00:00,  1.91it/s]"
          ]
        },
        {
          "name": "stdout",
          "output_type": "stream",
          "text": [
            "                   all         24         23      0.821      0.913      0.842      0.295\n"
          ]
        },
        {
          "name": "stderr",
          "output_type": "stream",
          "text": [
            "\n"
          ]
        },
        {
          "name": "stdout",
          "output_type": "stream",
          "text": [
            "\n",
            "      Epoch    GPU_mem   box_loss   cls_loss   dfl_loss  Instances       Size\n"
          ]
        },
        {
          "name": "stderr",
          "output_type": "stream",
          "text": [
            "      53/80      7.37G      2.173      1.049     0.9552         10       1280: 100%|██████████| 85/85 [01:06<00:00,  1.28it/s]\n",
            "                 Class     Images  Instances      Box(P          R      mAP50  mAP50-95): 100%|██████████| 1/1 [00:00<00:00,  1.93it/s]"
          ]
        },
        {
          "name": "stdout",
          "output_type": "stream",
          "text": [
            "                   all         24         23      0.852       0.87      0.835      0.292\n"
          ]
        },
        {
          "name": "stderr",
          "output_type": "stream",
          "text": [
            "\n"
          ]
        },
        {
          "name": "stdout",
          "output_type": "stream",
          "text": [
            "\n",
            "      Epoch    GPU_mem   box_loss   cls_loss   dfl_loss  Instances       Size\n"
          ]
        },
        {
          "name": "stderr",
          "output_type": "stream",
          "text": [
            "      54/80      5.85G      2.202       1.05     0.9588          8       1280: 100%|██████████| 85/85 [01:04<00:00,  1.32it/s]\n",
            "                 Class     Images  Instances      Box(P          R      mAP50  mAP50-95): 100%|██████████| 1/1 [00:01<00:00,  1.29s/it]"
          ]
        },
        {
          "name": "stdout",
          "output_type": "stream",
          "text": [
            "                   all         24         23      0.902       0.87      0.862      0.323\n"
          ]
        },
        {
          "name": "stderr",
          "output_type": "stream",
          "text": [
            "\n"
          ]
        },
        {
          "name": "stdout",
          "output_type": "stream",
          "text": [
            "\n",
            "      Epoch    GPU_mem   box_loss   cls_loss   dfl_loss  Instances       Size\n"
          ]
        },
        {
          "name": "stderr",
          "output_type": "stream",
          "text": [
            "      55/80      7.16G      2.188       1.03     0.9447         10       1280: 100%|██████████| 85/85 [01:06<00:00,  1.27it/s]\n",
            "                 Class     Images  Instances      Box(P          R      mAP50  mAP50-95): 100%|██████████| 1/1 [00:00<00:00,  1.42it/s]"
          ]
        },
        {
          "name": "stdout",
          "output_type": "stream",
          "text": [
            "                   all         24         23      0.803      0.913      0.827      0.309\n"
          ]
        },
        {
          "name": "stderr",
          "output_type": "stream",
          "text": [
            "\n"
          ]
        },
        {
          "name": "stdout",
          "output_type": "stream",
          "text": [
            "\n",
            "      Epoch    GPU_mem   box_loss   cls_loss   dfl_loss  Instances       Size\n"
          ]
        },
        {
          "name": "stderr",
          "output_type": "stream",
          "text": [
            "      56/80      7.16G      2.196      1.014     0.9477          3       1280: 100%|██████████| 85/85 [01:07<00:00,  1.27it/s]\n",
            "                 Class     Images  Instances      Box(P          R      mAP50  mAP50-95): 100%|██████████| 1/1 [00:00<00:00,  1.58it/s]"
          ]
        },
        {
          "name": "stdout",
          "output_type": "stream",
          "text": [
            "                   all         24         23      0.867      0.826      0.842      0.307\n"
          ]
        },
        {
          "name": "stderr",
          "output_type": "stream",
          "text": [
            "\n"
          ]
        },
        {
          "name": "stdout",
          "output_type": "stream",
          "text": [
            "\n",
            "      Epoch    GPU_mem   box_loss   cls_loss   dfl_loss  Instances       Size\n"
          ]
        },
        {
          "name": "stderr",
          "output_type": "stream",
          "text": [
            "      57/80      7.16G      2.206      1.032     0.9673         12       1280: 100%|██████████| 85/85 [01:07<00:00,  1.26it/s]\n",
            "                 Class     Images  Instances      Box(P          R      mAP50  mAP50-95): 100%|██████████| 1/1 [00:00<00:00,  2.06it/s]"
          ]
        },
        {
          "name": "stdout",
          "output_type": "stream",
          "text": [
            "                   all         24         23      0.816      0.913      0.854      0.329\n"
          ]
        },
        {
          "name": "stderr",
          "output_type": "stream",
          "text": [
            "\n"
          ]
        },
        {
          "name": "stdout",
          "output_type": "stream",
          "text": [
            "\n",
            "      Epoch    GPU_mem   box_loss   cls_loss   dfl_loss  Instances       Size\n"
          ]
        },
        {
          "name": "stderr",
          "output_type": "stream",
          "text": [
            "      58/80      7.16G      2.115      1.013     0.9475         11       1280: 100%|██████████| 85/85 [01:07<00:00,  1.27it/s]\n",
            "                 Class     Images  Instances      Box(P          R      mAP50  mAP50-95): 100%|██████████| 1/1 [00:00<00:00,  2.14it/s]"
          ]
        },
        {
          "name": "stdout",
          "output_type": "stream",
          "text": [
            "                   all         24         23      0.762      0.826      0.826       0.33\n"
          ]
        },
        {
          "name": "stderr",
          "output_type": "stream",
          "text": [
            "\n"
          ]
        },
        {
          "name": "stdout",
          "output_type": "stream",
          "text": [
            "\n",
            "      Epoch    GPU_mem   box_loss   cls_loss   dfl_loss  Instances       Size\n"
          ]
        },
        {
          "name": "stderr",
          "output_type": "stream",
          "text": [
            "      59/80      7.16G      2.125     0.9941     0.9658          5       1280: 100%|██████████| 85/85 [01:05<00:00,  1.29it/s]\n",
            "                 Class     Images  Instances      Box(P          R      mAP50  mAP50-95): 100%|██████████| 1/1 [00:00<00:00,  1.87it/s]"
          ]
        },
        {
          "name": "stdout",
          "output_type": "stream",
          "text": [
            "                   all         24         23      0.828      0.836      0.819      0.315\n"
          ]
        },
        {
          "name": "stderr",
          "output_type": "stream",
          "text": [
            "\n"
          ]
        },
        {
          "name": "stdout",
          "output_type": "stream",
          "text": [
            "\n",
            "      Epoch    GPU_mem   box_loss   cls_loss   dfl_loss  Instances       Size\n"
          ]
        },
        {
          "name": "stderr",
          "output_type": "stream",
          "text": [
            "      60/80      7.16G      2.144      1.013      0.964         18       1280:  96%|█████████▋| 82/85 [01:05<00:02,  1.27it/s]"
          ]
        }
      ],
      "source": [
        "model.train(\n",
        "    data='/content/Tennis-Detection-2/data.yaml',  # Dataset configuration\n",
        "    epochs=80,\n",
        "    batch=12,\n",
        "    mosaic=1.0,\n",
        "    imgsz=1280\n",
        ")"
      ]
    },
    {
      "cell_type": "code",
      "execution_count": null,
      "metadata": {
        "colab": {
          "base_uri": "https://localhost:8080/",
          "height": 352
        },
        "id": "5BBuSqzQSIX5",
        "outputId": "c4afe9b3-1bf2-4821-892e-13124b391fdc"
      },
      "outputs": [
        {
          "name": "stdout",
          "output_type": "stream",
          "text": [
            "[Errno 2] No such file or directory: '{HOME}'\n",
            "/content\n"
          ]
        },
        {
          "data": {
            "image/png": "[encoded data removed]",
            "text/plain": [
              "<IPython.core.display.Image object>"
            ]
          },
          "execution_count": 17,
          "metadata": {
            "image/png": {
              "width": 600
            }
          },
          "output_type": "execute_result"
        }
      ],
      "source": [
        "from IPython.display import Image # Import the Image class\n",
        "\n",
        "%cd {HOME}\n",
        "Image(filename=f'/content/runs/detect/train2/results.png', width=600)"
      ]
    },
    {
      "cell_type": "markdown",
      "metadata": {
        "id": "XLTpw_UAINtb"
      },
      "source": [
        "**# YOLO WITH SAHI**"
      ]
    },
    {
      "cell_type": "markdown",
      "metadata": {
        "id": "a41fcncNIVyO"
      },
      "source": [
        "# ONLY YOLO AND LLM"
      ]
    },
    {
      "cell_type": "code",
      "execution_count": null,
      "metadata": {
        "colab": {
          "base_uri": "https://localhost:8080/",
          "height": 1000
        },
        "id": "yqohuJMkwPaZ",
        "outputId": "f0b63d85-8128-4d22-a70e-b054ce784978"
      },
      "outputs": [
        {
          "name": "stdout",
          "output_type": "stream",
          "text": [
            "\n",
            "0: 736x1280 (no detections), 12.7ms\n",
            "Speed: 4.7ms preprocess, 12.7ms inference, 0.6ms postprocess per image at shape (1, 3, 736, 1280)\n",
            "\n",
            "0: 736x1280 (no detections), 12.2ms\n",
            "Speed: 5.7ms preprocess, 12.2ms inference, 0.6ms postprocess per image at shape (1, 3, 736, 1280)\n",
            "\n",
            "0: 736x1280 (no detections), 12.2ms\n",
            "Speed: 5.1ms preprocess, 12.2ms inference, 0.7ms postprocess per image at shape (1, 3, 736, 1280)\n",
            "\n",
            "0: 736x1280 (no detections), 12.2ms\n",
            "Speed: 4.6ms preprocess, 12.2ms inference, 0.6ms postprocess per image at shape (1, 3, 736, 1280)\n",
            "\n",
            "0: 736x1280 (no detections), 12.2ms\n",
            "Speed: 4.2ms preprocess, 12.2ms inference, 0.6ms postprocess per image at shape (1, 3, 736, 1280)\n",
            "\n",
            "0: 736x1280 (no detections), 12.2ms\n",
            "Speed: 4.9ms preprocess, 12.2ms inference, 0.6ms postprocess per image at shape (1, 3, 736, 1280)\n",
            "\n",
            "0: 736x1280 1 tennis, 12.2ms\n",
            "Speed: 4.3ms preprocess, 12.2ms inference, 1.3ms postprocess per image at shape (1, 3, 736, 1280)\n",
            "\n",
            "0: 736x1280 (no detections), 12.2ms\n",
            "Speed: 4.3ms preprocess, 12.2ms inference, 0.6ms postprocess per image at shape (1, 3, 736, 1280)\n",
            "\n",
            "0: 736x1280 (no detections), 11.3ms\n",
            "Speed: 5.5ms preprocess, 11.3ms inference, 0.6ms postprocess per image at shape (1, 3, 736, 1280)\n",
            "\n",
            "0: 736x1280 (no detections), 11.3ms\n",
            "Speed: 4.6ms preprocess, 11.3ms inference, 0.5ms postprocess per image at shape (1, 3, 736, 1280)\n",
            "\n",
            "0: 736x1280 (no detections), 11.3ms\n",
            "Speed: 5.3ms preprocess, 11.3ms inference, 0.6ms postprocess per image at shape (1, 3, 736, 1280)\n",
            "\n",
            "0: 736x1280 1 tennis, 11.3ms\n",
            "Speed: 5.7ms preprocess, 11.3ms inference, 1.6ms postprocess per image at shape (1, 3, 736, 1280)\n",
            "\n",
            "0: 736x1280 1 tennis, 11.3ms\n",
            "Speed: 5.1ms preprocess, 11.3ms inference, 1.3ms postprocess per image at shape (1, 3, 736, 1280)\n",
            "\n",
            "0: 736x1280 2 tenniss, 11.3ms\n",
            "Speed: 7.0ms preprocess, 11.3ms inference, 1.3ms postprocess per image at shape (1, 3, 736, 1280)\n",
            "\n",
            "0: 736x1280 2 tenniss, 11.3ms\n",
            "Speed: 5.2ms preprocess, 11.3ms inference, 1.2ms postprocess per image at shape (1, 3, 736, 1280)\n",
            "\n",
            "0: 736x1280 1 tennis, 11.2ms\n",
            "Speed: 6.6ms preprocess, 11.2ms inference, 1.2ms postprocess per image at shape (1, 3, 736, 1280)\n",
            "\n",
            "0: 736x1280 (no detections), 11.1ms\n",
            "Speed: 5.7ms preprocess, 11.1ms inference, 0.5ms postprocess per image at shape (1, 3, 736, 1280)\n",
            "\n",
            "0: 736x1280 (no detections), 11.1ms\n",
            "Speed: 5.0ms preprocess, 11.1ms inference, 0.5ms postprocess per image at shape (1, 3, 736, 1280)\n",
            "\n",
            "0: 736x1280 1 tennis, 11.1ms\n",
            "Speed: 4.2ms preprocess, 11.1ms inference, 1.2ms postprocess per image at shape (1, 3, 736, 1280)\n",
            "\n",
            "0: 736x1280 1 tennis, 11.1ms\n",
            "Speed: 3.7ms preprocess, 11.1ms inference, 1.1ms postprocess per image at shape (1, 3, 736, 1280)\n",
            "\n",
            "0: 736x1280 1 tennis, 11.2ms\n",
            "Speed: 4.9ms preprocess, 11.2ms inference, 1.2ms postprocess per image at shape (1, 3, 736, 1280)\n",
            "\n",
            "0: 736x1280 1 tennis, 11.1ms\n",
            "Speed: 4.9ms preprocess, 11.1ms inference, 1.2ms postprocess per image at shape (1, 3, 736, 1280)\n",
            "\n",
            "0: 736x1280 1 tennis, 11.1ms\n",
            "Speed: 5.1ms preprocess, 11.1ms inference, 1.2ms postprocess per image at shape (1, 3, 736, 1280)\n",
            "\n",
            "0: 736x1280 (no detections), 10.3ms\n",
            "Speed: 5.3ms preprocess, 10.3ms inference, 0.6ms postprocess per image at shape (1, 3, 736, 1280)\n",
            "\n",
            "0: 736x1280 1 tennis, 10.2ms\n",
            "Speed: 5.2ms preprocess, 10.2ms inference, 1.2ms postprocess per image at shape (1, 3, 736, 1280)\n",
            "\n",
            "0: 736x1280 (no detections), 10.3ms\n",
            "Speed: 4.8ms preprocess, 10.3ms inference, 0.5ms postprocess per image at shape (1, 3, 736, 1280)\n",
            "\n",
            "0: 736x1280 (no detections), 10.3ms\n",
            "Speed: 4.8ms preprocess, 10.3ms inference, 0.8ms postprocess per image at shape (1, 3, 736, 1280)\n",
            "\n",
            "0: 736x1280 (no detections), 11.6ms\n",
            "Speed: 5.3ms preprocess, 11.6ms inference, 0.6ms postprocess per image at shape (1, 3, 736, 1280)\n",
            "\n",
            "0: 736x1280 (no detections), 10.3ms\n",
            "Speed: 5.1ms preprocess, 10.3ms inference, 0.5ms postprocess per image at shape (1, 3, 736, 1280)\n",
            "\n",
            "0: 736x1280 (no detections), 10.2ms\n",
            "Speed: 4.8ms preprocess, 10.2ms inference, 0.7ms postprocess per image at shape (1, 3, 736, 1280)\n",
            "\n",
            "0: 736x1280 (no detections), 10.2ms\n",
            "Speed: 4.1ms preprocess, 10.2ms inference, 0.5ms postprocess per image at shape (1, 3, 736, 1280)\n",
            "\n",
            "0: 736x1280 1 tennis, 10.2ms\n",
            "Speed: 4.1ms preprocess, 10.2ms inference, 1.2ms postprocess per image at shape (1, 3, 736, 1280)\n",
            "\n",
            "0: 736x1280 1 tennis, 10.2ms\n",
            "Speed: 4.6ms preprocess, 10.2ms inference, 1.2ms postprocess per image at shape (1, 3, 736, 1280)\n",
            "\n",
            "0: 736x1280 1 tennis, 10.2ms\n",
            "Speed: 4.8ms preprocess, 10.2ms inference, 1.1ms postprocess per image at shape (1, 3, 736, 1280)\n",
            "\n",
            "0: 736x1280 1 tennis, 10.2ms\n",
            "Speed: 4.8ms preprocess, 10.2ms inference, 1.2ms postprocess per image at shape (1, 3, 736, 1280)\n",
            "\n",
            "0: 736x1280 (no detections), 10.2ms\n",
            "Speed: 4.8ms preprocess, 10.2ms inference, 0.5ms postprocess per image at shape (1, 3, 736, 1280)\n",
            "\n",
            "0: 736x1280 (no detections), 10.2ms\n",
            "Speed: 4.2ms preprocess, 10.2ms inference, 0.5ms postprocess per image at shape (1, 3, 736, 1280)\n",
            "\n",
            "0: 736x1280 1 tennis, 10.2ms\n",
            "Speed: 4.5ms preprocess, 10.2ms inference, 1.2ms postprocess per image at shape (1, 3, 736, 1280)\n",
            "\n",
            "0: 736x1280 1 tennis, 9.9ms\n",
            "Speed: 4.9ms preprocess, 9.9ms inference, 1.2ms postprocess per image at shape (1, 3, 736, 1280)\n",
            "\n",
            "0: 736x1280 (no detections), 10.0ms\n",
            "Speed: 5.4ms preprocess, 10.0ms inference, 0.5ms postprocess per image at shape (1, 3, 736, 1280)\n",
            "\n",
            "0: 736x1280 (no detections), 10.0ms\n",
            "Speed: 4.9ms preprocess, 10.0ms inference, 0.6ms postprocess per image at shape (1, 3, 736, 1280)\n",
            "\n",
            "0: 736x1280 1 tennis, 10.0ms\n",
            "Speed: 4.6ms preprocess, 10.0ms inference, 1.2ms postprocess per image at shape (1, 3, 736, 1280)\n",
            "\n",
            "0: 736x1280 1 tennis, 9.9ms\n",
            "Speed: 4.8ms preprocess, 9.9ms inference, 1.2ms postprocess per image at shape (1, 3, 736, 1280)\n",
            "\n",
            "0: 736x1280 (no detections), 10.0ms\n",
            "Speed: 4.9ms preprocess, 10.0ms inference, 0.5ms postprocess per image at shape (1, 3, 736, 1280)\n",
            "\n",
            "0: 736x1280 (no detections), 10.0ms\n",
            "Speed: 4.6ms preprocess, 10.0ms inference, 0.6ms postprocess per image at shape (1, 3, 736, 1280)\n",
            "\n",
            "0: 736x1280 (no detections), 10.0ms\n",
            "Speed: 4.7ms preprocess, 10.0ms inference, 0.6ms postprocess per image at shape (1, 3, 736, 1280)\n",
            "\n",
            "0: 736x1280 (no detections), 9.7ms\n",
            "Speed: 4.7ms preprocess, 9.7ms inference, 0.5ms postprocess per image at shape (1, 3, 736, 1280)\n",
            "\n",
            "0: 736x1280 (no detections), 9.7ms\n",
            "Speed: 3.8ms preprocess, 9.7ms inference, 0.6ms postprocess per image at shape (1, 3, 736, 1280)\n",
            "\n",
            "0: 736x1280 (no detections), 9.7ms\n",
            "Speed: 4.6ms preprocess, 9.7ms inference, 0.5ms postprocess per image at shape (1, 3, 736, 1280)\n",
            "\n",
            "0: 736x1280 (no detections), 9.7ms\n",
            "Speed: 4.2ms preprocess, 9.7ms inference, 0.7ms postprocess per image at shape (1, 3, 736, 1280)\n",
            "\n",
            "0: 736x1280 (no detections), 9.7ms\n",
            "Speed: 5.3ms preprocess, 9.7ms inference, 0.5ms postprocess per image at shape (1, 3, 736, 1280)\n",
            "\n",
            "0: 736x1280 1 tennis, 9.7ms\n",
            "Speed: 5.6ms preprocess, 9.7ms inference, 1.2ms postprocess per image at shape (1, 3, 736, 1280)\n",
            "\n",
            "0: 736x1280 1 tennis, 9.7ms\n",
            "Speed: 3.8ms preprocess, 9.7ms inference, 1.2ms postprocess per image at shape (1, 3, 736, 1280)\n",
            "\n",
            "0: 736x1280 1 tennis, 9.7ms\n",
            "Speed: 4.8ms preprocess, 9.7ms inference, 1.2ms postprocess per image at shape (1, 3, 736, 1280)\n",
            "\n",
            "0: 736x1280 1 tennis, 9.7ms\n",
            "Speed: 4.4ms preprocess, 9.7ms inference, 1.2ms postprocess per image at shape (1, 3, 736, 1280)\n",
            "\n",
            "0: 736x1280 (no detections), 9.7ms\n",
            "Speed: 5.9ms preprocess, 9.7ms inference, 0.5ms postprocess per image at shape (1, 3, 736, 1280)\n",
            "\n",
            "0: 736x1280 (no detections), 9.7ms\n",
            "Speed: 5.2ms preprocess, 9.7ms inference, 0.5ms postprocess per image at shape (1, 3, 736, 1280)\n",
            "\n",
            "0: 736x1280 (no detections), 9.7ms\n",
            "Speed: 5.4ms preprocess, 9.7ms inference, 0.6ms postprocess per image at shape (1, 3, 736, 1280)\n",
            "\n",
            "0: 736x1280 (no detections), 9.7ms\n",
            "Speed: 4.8ms preprocess, 9.7ms inference, 0.6ms postprocess per image at shape (1, 3, 736, 1280)\n",
            "\n",
            "0: 736x1280 (no detections), 9.7ms\n",
            "Speed: 4.8ms preprocess, 9.7ms inference, 0.7ms postprocess per image at shape (1, 3, 736, 1280)\n",
            "\n",
            "0: 736x1280 (no detections), 9.7ms\n",
            "Speed: 4.0ms preprocess, 9.7ms inference, 0.6ms postprocess per image at shape (1, 3, 736, 1280)\n",
            "\n",
            "0: 736x1280 1 tennis, 9.7ms\n",
            "Speed: 4.2ms preprocess, 9.7ms inference, 1.3ms postprocess per image at shape (1, 3, 736, 1280)\n",
            "\n",
            "0: 736x1280 1 tennis, 9.7ms\n",
            "Speed: 5.1ms preprocess, 9.7ms inference, 1.1ms postprocess per image at shape (1, 3, 736, 1280)\n",
            "\n",
            "0: 736x1280 (no detections), 9.7ms\n",
            "Speed: 4.7ms preprocess, 9.7ms inference, 0.5ms postprocess per image at shape (1, 3, 736, 1280)\n",
            "\n",
            "0: 736x1280 1 tennis, 9.7ms\n",
            "Speed: 4.6ms preprocess, 9.7ms inference, 1.2ms postprocess per image at shape (1, 3, 736, 1280)\n",
            "\n",
            "0: 736x1280 1 tennis, 9.7ms\n",
            "Speed: 4.6ms preprocess, 9.7ms inference, 1.2ms postprocess per image at shape (1, 3, 736, 1280)\n",
            "\n",
            "0: 736x1280 (no detections), 12.0ms\n",
            "Speed: 4.6ms preprocess, 12.0ms inference, 0.9ms postprocess per image at shape (1, 3, 736, 1280)\n",
            "\n",
            "0: 736x1280 1 tennis, 9.7ms\n",
            "Speed: 4.0ms preprocess, 9.7ms inference, 1.3ms postprocess per image at shape (1, 3, 736, 1280)\n",
            "\n",
            "0: 736x1280 1 tennis, 9.7ms\n",
            "Speed: 4.6ms preprocess, 9.7ms inference, 1.2ms postprocess per image at shape (1, 3, 736, 1280)\n",
            "\n",
            "0: 736x1280 1 tennis, 10.6ms\n",
            "Speed: 5.1ms preprocess, 10.6ms inference, 2.5ms postprocess per image at shape (1, 3, 736, 1280)\n",
            "\n",
            "0: 736x1280 1 tennis, 9.7ms\n",
            "Speed: 4.5ms preprocess, 9.7ms inference, 1.3ms postprocess per image at shape (1, 3, 736, 1280)\n",
            "\n",
            "0: 736x1280 1 tennis, 9.7ms\n",
            "Speed: 8.2ms preprocess, 9.7ms inference, 1.2ms postprocess per image at shape (1, 3, 736, 1280)\n",
            "\n",
            "0: 736x1280 1 tennis, 9.7ms\n",
            "Speed: 4.9ms preprocess, 9.7ms inference, 1.2ms postprocess per image at shape (1, 3, 736, 1280)\n",
            "\n",
            "0: 736x1280 (no detections), 9.7ms\n",
            "Speed: 4.7ms preprocess, 9.7ms inference, 0.5ms postprocess per image at shape (1, 3, 736, 1280)\n",
            "\n",
            "0: 736x1280 (no detections), 9.7ms\n",
            "Speed: 4.8ms preprocess, 9.7ms inference, 0.5ms postprocess per image at shape (1, 3, 736, 1280)\n",
            "\n",
            "0: 736x1280 1 tennis, 9.7ms\n",
            "Speed: 4.7ms preprocess, 9.7ms inference, 1.3ms postprocess per image at shape (1, 3, 736, 1280)\n",
            "\n",
            "0: 736x1280 1 tennis, 9.6ms\n",
            "Speed: 5.0ms preprocess, 9.6ms inference, 1.2ms postprocess per image at shape (1, 3, 736, 1280)\n",
            "\n",
            "0: 736x1280 1 tennis, 9.6ms\n",
            "Speed: 4.9ms preprocess, 9.6ms inference, 1.2ms postprocess per image at shape (1, 3, 736, 1280)\n",
            "\n",
            "0: 736x1280 (no detections), 9.6ms\n",
            "Speed: 5.0ms preprocess, 9.6ms inference, 0.5ms postprocess per image at shape (1, 3, 736, 1280)\n",
            "\n",
            "0: 736x1280 1 tennis, 9.6ms\n",
            "Speed: 4.5ms preprocess, 9.6ms inference, 1.2ms postprocess per image at shape (1, 3, 736, 1280)\n",
            "\n",
            "0: 736x1280 1 tennis, 9.6ms\n",
            "Speed: 4.9ms preprocess, 9.6ms inference, 1.2ms postprocess per image at shape (1, 3, 736, 1280)\n",
            "\n",
            "0: 736x1280 1 tennis, 9.6ms\n",
            "Speed: 4.7ms preprocess, 9.6ms inference, 1.2ms postprocess per image at shape (1, 3, 736, 1280)\n",
            "\n",
            "0: 736x1280 1 tennis, 9.8ms\n",
            "Speed: 5.0ms preprocess, 9.8ms inference, 1.2ms postprocess per image at shape (1, 3, 736, 1280)\n",
            "\n",
            "0: 736x1280 1 tennis, 9.6ms\n",
            "Speed: 4.9ms preprocess, 9.6ms inference, 1.3ms postprocess per image at shape (1, 3, 736, 1280)\n",
            "\n",
            "0: 736x1280 1 tennis, 9.6ms\n",
            "Speed: 5.4ms preprocess, 9.6ms inference, 1.2ms postprocess per image at shape (1, 3, 736, 1280)\n",
            "\n",
            "0: 736x1280 1 tennis, 9.5ms\n",
            "Speed: 4.9ms preprocess, 9.5ms inference, 1.2ms postprocess per image at shape (1, 3, 736, 1280)\n",
            "\n",
            "0: 736x1280 1 tennis, 9.6ms\n",
            "Speed: 6.0ms preprocess, 9.6ms inference, 1.2ms postprocess per image at shape (1, 3, 736, 1280)\n",
            "\n",
            "0: 736x1280 1 tennis, 9.6ms\n",
            "Speed: 5.8ms preprocess, 9.6ms inference, 1.2ms postprocess per image at shape (1, 3, 736, 1280)\n",
            "\n",
            "0: 736x1280 1 tennis, 9.9ms\n",
            "Speed: 4.8ms preprocess, 9.9ms inference, 1.3ms postprocess per image at shape (1, 3, 736, 1280)\n",
            "\n",
            "0: 736x1280 1 tennis, 9.6ms\n",
            "Speed: 5.8ms preprocess, 9.6ms inference, 1.2ms postprocess per image at shape (1, 3, 736, 1280)\n",
            "\n",
            "0: 736x1280 (no detections), 9.6ms\n",
            "Speed: 5.9ms preprocess, 9.6ms inference, 0.5ms postprocess per image at shape (1, 3, 736, 1280)\n",
            "\n",
            "0: 736x1280 1 tennis, 9.5ms\n",
            "Speed: 4.7ms preprocess, 9.5ms inference, 1.2ms postprocess per image at shape (1, 3, 736, 1280)\n",
            "\n",
            "0: 736x1280 1 tennis, 9.6ms\n",
            "Speed: 5.2ms preprocess, 9.6ms inference, 1.2ms postprocess per image at shape (1, 3, 736, 1280)\n",
            "\n",
            "0: 736x1280 (no detections), 9.6ms\n",
            "Speed: 6.6ms preprocess, 9.6ms inference, 0.6ms postprocess per image at shape (1, 3, 736, 1280)\n",
            "\n",
            "0: 736x1280 1 tennis, 9.6ms\n",
            "Speed: 5.2ms preprocess, 9.6ms inference, 1.2ms postprocess per image at shape (1, 3, 736, 1280)\n",
            "\n",
            "0: 736x1280 1 tennis, 9.6ms\n",
            "Speed: 5.0ms preprocess, 9.6ms inference, 1.2ms postprocess per image at shape (1, 3, 736, 1280)\n",
            "\n",
            "0: 736x1280 1 tennis, 9.6ms\n",
            "Speed: 4.3ms preprocess, 9.6ms inference, 1.2ms postprocess per image at shape (1, 3, 736, 1280)\n",
            "\n",
            "0: 736x1280 1 tennis, 9.6ms\n",
            "Speed: 5.1ms preprocess, 9.6ms inference, 1.2ms postprocess per image at shape (1, 3, 736, 1280)\n",
            "\n",
            "0: 736x1280 1 tennis, 9.6ms\n",
            "Speed: 6.3ms preprocess, 9.6ms inference, 1.3ms postprocess per image at shape (1, 3, 736, 1280)\n",
            "\n",
            "0: 736x1280 1 tennis, 9.6ms\n",
            "Speed: 6.4ms preprocess, 9.6ms inference, 1.2ms postprocess per image at shape (1, 3, 736, 1280)\n",
            "\n",
            "0: 736x1280 1 tennis, 9.6ms\n",
            "Speed: 5.3ms preprocess, 9.6ms inference, 1.4ms postprocess per image at shape (1, 3, 736, 1280)\n",
            "\n",
            "0: 736x1280 1 tennis, 9.6ms\n",
            "Speed: 4.9ms preprocess, 9.6ms inference, 1.3ms postprocess per image at shape (1, 3, 736, 1280)\n",
            "\n",
            "0: 736x1280 (no detections), 9.6ms\n",
            "Speed: 5.1ms preprocess, 9.6ms inference, 0.6ms postprocess per image at shape (1, 3, 736, 1280)\n",
            "\n",
            "0: 736x1280 1 tennis, 9.6ms\n",
            "Speed: 4.7ms preprocess, 9.6ms inference, 1.3ms postprocess per image at shape (1, 3, 736, 1280)\n",
            "\n",
            "0: 736x1280 1 tennis, 9.7ms\n",
            "Speed: 5.8ms preprocess, 9.7ms inference, 1.3ms postprocess per image at shape (1, 3, 736, 1280)\n",
            "\n",
            "0: 736x1280 1 tennis, 9.6ms\n",
            "Speed: 6.0ms preprocess, 9.6ms inference, 1.2ms postprocess per image at shape (1, 3, 736, 1280)\n",
            "\n",
            "0: 736x1280 1 tennis, 9.6ms\n",
            "Speed: 5.2ms preprocess, 9.6ms inference, 1.2ms postprocess per image at shape (1, 3, 736, 1280)\n",
            "\n",
            "0: 736x1280 2 tenniss, 9.6ms\n",
            "Speed: 4.9ms preprocess, 9.6ms inference, 1.3ms postprocess per image at shape (1, 3, 736, 1280)\n",
            "\n",
            "0: 736x1280 1 tennis, 9.6ms\n",
            "Speed: 4.8ms preprocess, 9.6ms inference, 1.1ms postprocess per image at shape (1, 3, 736, 1280)\n",
            "\n",
            "0: 736x1280 (no detections), 9.5ms\n",
            "Speed: 4.4ms preprocess, 9.5ms inference, 0.5ms postprocess per image at shape (1, 3, 736, 1280)\n",
            "\n",
            "0: 736x1280 (no detections), 9.6ms\n",
            "Speed: 4.9ms preprocess, 9.6ms inference, 0.5ms postprocess per image at shape (1, 3, 736, 1280)\n",
            "\n",
            "0: 736x1280 1 tennis, 9.6ms\n",
            "Speed: 4.8ms preprocess, 9.6ms inference, 1.2ms postprocess per image at shape (1, 3, 736, 1280)\n",
            "\n",
            "0: 736x1280 (no detections), 9.6ms\n",
            "Speed: 5.2ms preprocess, 9.6ms inference, 0.5ms postprocess per image at shape (1, 3, 736, 1280)\n",
            "\n",
            "0: 736x1280 (no detections), 9.6ms\n",
            "Speed: 5.7ms preprocess, 9.6ms inference, 0.5ms postprocess per image at shape (1, 3, 736, 1280)\n",
            "\n",
            "0: 736x1280 (no detections), 9.6ms\n",
            "Speed: 5.4ms preprocess, 9.6ms inference, 0.5ms postprocess per image at shape (1, 3, 736, 1280)\n",
            "\n",
            "0: 736x1280 (no detections), 9.6ms\n",
            "Speed: 4.5ms preprocess, 9.6ms inference, 0.5ms postprocess per image at shape (1, 3, 736, 1280)\n",
            "\n",
            "0: 736x1280 (no detections), 9.6ms\n",
            "Speed: 5.8ms preprocess, 9.6ms inference, 0.5ms postprocess per image at shape (1, 3, 736, 1280)\n",
            "\n",
            "0: 736x1280 (no detections), 9.6ms\n",
            "Speed: 5.6ms preprocess, 9.6ms inference, 0.5ms postprocess per image at shape (1, 3, 736, 1280)\n",
            "\n",
            "0: 736x1280 (no detections), 9.6ms\n",
            "Speed: 5.1ms preprocess, 9.6ms inference, 0.5ms postprocess per image at shape (1, 3, 736, 1280)\n",
            "\n",
            "0: 736x1280 (no detections), 9.6ms\n",
            "Speed: 5.0ms preprocess, 9.6ms inference, 0.6ms postprocess per image at shape (1, 3, 736, 1280)\n",
            "\n",
            "0: 736x1280 1 tennis, 10.1ms\n",
            "Speed: 5.6ms preprocess, 10.1ms inference, 1.2ms postprocess per image at shape (1, 3, 736, 1280)\n",
            "\n",
            "0: 736x1280 (no detections), 9.6ms\n",
            "Speed: 3.7ms preprocess, 9.6ms inference, 0.6ms postprocess per image at shape (1, 3, 736, 1280)\n",
            "\n",
            "0: 736x1280 (no detections), 9.6ms\n",
            "Speed: 4.7ms preprocess, 9.6ms inference, 0.5ms postprocess per image at shape (1, 3, 736, 1280)\n",
            "\n",
            "0: 736x1280 1 tennis, 9.8ms\n",
            "Speed: 5.7ms preprocess, 9.8ms inference, 1.3ms postprocess per image at shape (1, 3, 736, 1280)\n",
            "\n",
            "0: 736x1280 (no detections), 9.9ms\n",
            "Speed: 5.8ms preprocess, 9.9ms inference, 0.5ms postprocess per image at shape (1, 3, 736, 1280)\n",
            "\n",
            "0: 736x1280 1 tennis, 9.6ms\n",
            "Speed: 5.4ms preprocess, 9.6ms inference, 1.5ms postprocess per image at shape (1, 3, 736, 1280)\n",
            "\n",
            "0: 736x1280 1 tennis, 9.6ms\n",
            "Speed: 4.8ms preprocess, 9.6ms inference, 1.2ms postprocess per image at shape (1, 3, 736, 1280)\n",
            "\n",
            "0: 736x1280 (no detections), 9.7ms\n",
            "Speed: 4.8ms preprocess, 9.7ms inference, 0.6ms postprocess per image at shape (1, 3, 736, 1280)\n",
            "\n",
            "0: 736x1280 (no detections), 9.6ms\n",
            "Speed: 5.4ms preprocess, 9.6ms inference, 0.6ms postprocess per image at shape (1, 3, 736, 1280)\n",
            "\n",
            "0: 736x1280 1 tennis, 9.6ms\n",
            "Speed: 4.7ms preprocess, 9.6ms inference, 1.3ms postprocess per image at shape (1, 3, 736, 1280)\n",
            "\n",
            "0: 736x1280 1 tennis, 9.7ms\n",
            "Speed: 5.4ms preprocess, 9.7ms inference, 1.2ms postprocess per image at shape (1, 3, 736, 1280)\n",
            "\n",
            "0: 736x1280 (no detections), 9.6ms\n",
            "Speed: 4.7ms preprocess, 9.6ms inference, 0.6ms postprocess per image at shape (1, 3, 736, 1280)\n",
            "\n",
            "0: 736x1280 (no detections), 10.0ms\n",
            "Speed: 5.4ms preprocess, 10.0ms inference, 0.6ms postprocess per image at shape (1, 3, 736, 1280)\n",
            "\n",
            "0: 736x1280 1 tennis, 9.6ms\n",
            "Speed: 4.9ms preprocess, 9.6ms inference, 1.2ms postprocess per image at shape (1, 3, 736, 1280)\n",
            "\n",
            "0: 736x1280 1 tennis, 9.6ms\n",
            "Speed: 4.6ms preprocess, 9.6ms inference, 1.5ms postprocess per image at shape (1, 3, 736, 1280)\n",
            "\n",
            "0: 736x1280 1 tennis, 9.6ms\n",
            "Speed: 5.3ms preprocess, 9.6ms inference, 1.4ms postprocess per image at shape (1, 3, 736, 1280)\n",
            "\n",
            "0: 736x1280 1 tennis, 9.6ms\n",
            "Speed: 5.9ms preprocess, 9.6ms inference, 1.2ms postprocess per image at shape (1, 3, 736, 1280)\n",
            "\n",
            "0: 736x1280 2 tenniss, 9.6ms\n",
            "Speed: 6.2ms preprocess, 9.6ms inference, 1.3ms postprocess per image at shape (1, 3, 736, 1280)\n",
            "\n",
            "0: 736x1280 2 tenniss, 9.6ms\n",
            "Speed: 5.9ms preprocess, 9.6ms inference, 1.2ms postprocess per image at shape (1, 3, 736, 1280)\n",
            "\n",
            "0: 736x1280 1 tennis, 9.6ms\n",
            "Speed: 5.0ms preprocess, 9.6ms inference, 1.3ms postprocess per image at shape (1, 3, 736, 1280)\n",
            "\n",
            "0: 736x1280 1 tennis, 9.6ms\n",
            "Speed: 5.3ms preprocess, 9.6ms inference, 2.0ms postprocess per image at shape (1, 3, 736, 1280)\n",
            "\n",
            "0: 736x1280 1 tennis, 12.1ms\n",
            "Speed: 5.6ms preprocess, 12.1ms inference, 2.1ms postprocess per image at shape (1, 3, 736, 1280)\n",
            "\n",
            "0: 736x1280 1 tennis, 9.9ms\n",
            "Speed: 5.3ms preprocess, 9.9ms inference, 1.2ms postprocess per image at shape (1, 3, 736, 1280)\n",
            "\n",
            "0: 736x1280 1 tennis, 9.9ms\n",
            "Speed: 5.4ms preprocess, 9.9ms inference, 1.2ms postprocess per image at shape (1, 3, 736, 1280)\n",
            "\n",
            "0: 736x1280 1 tennis, 9.9ms\n",
            "Speed: 5.7ms preprocess, 9.9ms inference, 1.2ms postprocess per image at shape (1, 3, 736, 1280)\n",
            "\n",
            "0: 736x1280 1 tennis, 9.8ms\n",
            "Speed: 5.1ms preprocess, 9.8ms inference, 1.2ms postprocess per image at shape (1, 3, 736, 1280)\n",
            "\n",
            "0: 736x1280 1 tennis, 9.8ms\n",
            "Speed: 5.2ms preprocess, 9.8ms inference, 1.2ms postprocess per image at shape (1, 3, 736, 1280)\n",
            "\n",
            "0: 736x1280 1 tennis, 9.9ms\n",
            "Speed: 5.4ms preprocess, 9.9ms inference, 1.7ms postprocess per image at shape (1, 3, 736, 1280)\n",
            "\n",
            "0: 736x1280 1 tennis, 9.9ms\n",
            "Speed: 5.6ms preprocess, 9.9ms inference, 1.2ms postprocess per image at shape (1, 3, 736, 1280)\n",
            "\n",
            "0: 736x1280 1 tennis, 9.9ms\n",
            "Speed: 5.4ms preprocess, 9.9ms inference, 1.6ms postprocess per image at shape (1, 3, 736, 1280)\n",
            "\n",
            "0: 736x1280 1 tennis, 9.8ms\n",
            "Speed: 5.2ms preprocess, 9.8ms inference, 1.2ms postprocess per image at shape (1, 3, 736, 1280)\n",
            "\n",
            "0: 736x1280 1 tennis, 9.8ms\n",
            "Speed: 3.6ms preprocess, 9.8ms inference, 1.2ms postprocess per image at shape (1, 3, 736, 1280)\n",
            "\n",
            "0: 736x1280 1 tennis, 9.8ms\n",
            "Speed: 4.9ms preprocess, 9.8ms inference, 1.2ms postprocess per image at shape (1, 3, 736, 1280)\n",
            "\n",
            "0: 736x1280 1 tennis, 9.9ms\n",
            "Speed: 5.8ms preprocess, 9.9ms inference, 1.2ms postprocess per image at shape (1, 3, 736, 1280)\n",
            "\n",
            "0: 736x1280 1 tennis, 9.9ms\n",
            "Speed: 5.4ms preprocess, 9.9ms inference, 1.2ms postprocess per image at shape (1, 3, 736, 1280)\n",
            "\n",
            "0: 736x1280 1 tennis, 10.0ms\n",
            "Speed: 6.8ms preprocess, 10.0ms inference, 1.8ms postprocess per image at shape (1, 3, 736, 1280)\n",
            "\n",
            "0: 736x1280 1 tennis, 10.0ms\n",
            "Speed: 5.2ms preprocess, 10.0ms inference, 1.3ms postprocess per image at shape (1, 3, 736, 1280)\n",
            "\n",
            "0: 736x1280 (no detections), 10.1ms\n",
            "Speed: 5.2ms preprocess, 10.1ms inference, 0.5ms postprocess per image at shape (1, 3, 736, 1280)\n",
            "\n",
            "0: 736x1280 (no detections), 10.0ms\n",
            "Speed: 5.1ms preprocess, 10.0ms inference, 0.6ms postprocess per image at shape (1, 3, 736, 1280)\n",
            "\n",
            "0: 736x1280 (no detections), 10.0ms\n",
            "Speed: 5.3ms preprocess, 10.0ms inference, 0.5ms postprocess per image at shape (1, 3, 736, 1280)\n",
            "\n",
            "0: 736x1280 (no detections), 10.0ms\n",
            "Speed: 5.2ms preprocess, 10.0ms inference, 0.5ms postprocess per image at shape (1, 3, 736, 1280)\n",
            "\n",
            "0: 736x1280 1 tennis, 10.0ms\n",
            "Speed: 6.7ms preprocess, 10.0ms inference, 1.3ms postprocess per image at shape (1, 3, 736, 1280)\n",
            "\n",
            "0: 736x1280 (no detections), 10.0ms\n",
            "Speed: 5.3ms preprocess, 10.0ms inference, 0.5ms postprocess per image at shape (1, 3, 736, 1280)\n",
            "\n",
            "0: 736x1280 1 tennis, 10.0ms\n",
            "Speed: 5.2ms preprocess, 10.0ms inference, 1.2ms postprocess per image at shape (1, 3, 736, 1280)\n",
            "\n",
            "0: 736x1280 1 tennis, 10.0ms\n",
            "Speed: 6.4ms preprocess, 10.0ms inference, 1.2ms postprocess per image at shape (1, 3, 736, 1280)\n",
            "\n",
            "0: 736x1280 1 tennis, 10.0ms\n",
            "Speed: 5.2ms preprocess, 10.0ms inference, 1.1ms postprocess per image at shape (1, 3, 736, 1280)\n",
            "\n",
            "0: 736x1280 1 tennis, 10.0ms\n",
            "Speed: 4.4ms preprocess, 10.0ms inference, 1.2ms postprocess per image at shape (1, 3, 736, 1280)\n",
            "\n",
            "0: 736x1280 1 tennis, 10.0ms\n",
            "Speed: 5.8ms preprocess, 10.0ms inference, 1.2ms postprocess per image at shape (1, 3, 736, 1280)\n",
            "\n",
            "0: 736x1280 1 tennis, 10.0ms\n",
            "Speed: 5.9ms preprocess, 10.0ms inference, 1.4ms postprocess per image at shape (1, 3, 736, 1280)\n",
            "\n",
            "0: 736x1280 1 tennis, 10.1ms\n",
            "Speed: 5.0ms preprocess, 10.1ms inference, 1.2ms postprocess per image at shape (1, 3, 736, 1280)\n",
            "\n",
            "0: 736x1280 1 tennis, 10.1ms\n",
            "Speed: 5.2ms preprocess, 10.1ms inference, 1.2ms postprocess per image at shape (1, 3, 736, 1280)\n",
            "\n",
            "0: 736x1280 1 tennis, 10.2ms\n",
            "Speed: 5.8ms preprocess, 10.2ms inference, 1.2ms postprocess per image at shape (1, 3, 736, 1280)\n",
            "\n",
            "0: 736x1280 (no detections), 10.1ms\n",
            "Speed: 5.7ms preprocess, 10.1ms inference, 0.5ms postprocess per image at shape (1, 3, 736, 1280)\n",
            "\n",
            "0: 736x1280 1 tennis, 10.1ms\n",
            "Speed: 5.0ms preprocess, 10.1ms inference, 1.2ms postprocess per image at shape (1, 3, 736, 1280)\n",
            "\n",
            "0: 736x1280 1 tennis, 10.1ms\n",
            "Speed: 4.9ms preprocess, 10.1ms inference, 1.2ms postprocess per image at shape (1, 3, 736, 1280)\n",
            "\n",
            "0: 736x1280 1 tennis, 10.1ms\n",
            "Speed: 4.9ms preprocess, 10.1ms inference, 1.3ms postprocess per image at shape (1, 3, 736, 1280)\n",
            "\n",
            "0: 736x1280 1 tennis, 10.1ms\n",
            "Speed: 5.1ms preprocess, 10.1ms inference, 1.1ms postprocess per image at shape (1, 3, 736, 1280)\n",
            "\n",
            "0: 736x1280 (no detections), 13.0ms\n",
            "Speed: 4.9ms preprocess, 13.0ms inference, 0.8ms postprocess per image at shape (1, 3, 736, 1280)\n",
            "\n",
            "0: 736x1280 1 tennis, 10.2ms\n",
            "Speed: 5.0ms preprocess, 10.2ms inference, 1.3ms postprocess per image at shape (1, 3, 736, 1280)\n",
            "\n",
            "0: 736x1280 1 tennis, 10.1ms\n",
            "Speed: 4.8ms preprocess, 10.1ms inference, 1.4ms postprocess per image at shape (1, 3, 736, 1280)\n",
            "\n",
            "0: 736x1280 (no detections), 10.1ms\n",
            "Speed: 4.7ms preprocess, 10.1ms inference, 0.7ms postprocess per image at shape (1, 3, 736, 1280)\n",
            "\n",
            "0: 736x1280 (no detections), 10.1ms\n",
            "Speed: 4.6ms preprocess, 10.1ms inference, 0.5ms postprocess per image at shape (1, 3, 736, 1280)\n",
            "\n",
            "0: 736x1280 (no detections), 10.2ms\n",
            "Speed: 4.8ms preprocess, 10.2ms inference, 0.6ms postprocess per image at shape (1, 3, 736, 1280)\n",
            "\n",
            "0: 736x1280 1 tennis, 10.1ms\n",
            "Speed: 5.3ms preprocess, 10.1ms inference, 1.2ms postprocess per image at shape (1, 3, 736, 1280)\n",
            "\n",
            "0: 736x1280 (no detections), 10.1ms\n",
            "Speed: 4.9ms preprocess, 10.1ms inference, 0.6ms postprocess per image at shape (1, 3, 736, 1280)\n",
            "\n",
            "0: 736x1280 (no detections), 10.1ms\n",
            "Speed: 5.3ms preprocess, 10.1ms inference, 0.6ms postprocess per image at shape (1, 3, 736, 1280)\n",
            "\n",
            "0: 736x1280 (no detections), 10.1ms\n",
            "Speed: 5.1ms preprocess, 10.1ms inference, 0.6ms postprocess per image at shape (1, 3, 736, 1280)\n",
            "\n",
            "0: 736x1280 1 tennis, 10.3ms\n",
            "Speed: 4.6ms preprocess, 10.3ms inference, 1.4ms postprocess per image at shape (1, 3, 736, 1280)\n",
            "\n",
            "0: 736x1280 1 tennis, 10.2ms\n",
            "Speed: 5.6ms preprocess, 10.2ms inference, 1.3ms postprocess per image at shape (1, 3, 736, 1280)\n",
            "\n",
            "0: 736x1280 (no detections), 10.1ms\n",
            "Speed: 6.1ms preprocess, 10.1ms inference, 0.6ms postprocess per image at shape (1, 3, 736, 1280)\n",
            "\n",
            "0: 736x1280 1 tennis, 10.3ms\n",
            "Speed: 7.1ms preprocess, 10.3ms inference, 1.3ms postprocess per image at shape (1, 3, 736, 1280)\n",
            "\n",
            "0: 736x1280 (no detections), 10.3ms\n",
            "Speed: 5.2ms preprocess, 10.3ms inference, 0.5ms postprocess per image at shape (1, 3, 736, 1280)\n",
            "\n",
            "0: 736x1280 1 tennis, 10.3ms\n",
            "Speed: 5.0ms preprocess, 10.3ms inference, 1.2ms postprocess per image at shape (1, 3, 736, 1280)\n",
            "\n",
            "0: 736x1280 (no detections), 10.3ms\n",
            "Speed: 4.5ms preprocess, 10.3ms inference, 0.6ms postprocess per image at shape (1, 3, 736, 1280)\n",
            "\n",
            "0: 736x1280 (no detections), 10.3ms\n",
            "Speed: 4.9ms preprocess, 10.3ms inference, 0.6ms postprocess per image at shape (1, 3, 736, 1280)\n",
            "\n",
            "0: 736x1280 1 tennis, 10.3ms\n",
            "Speed: 4.5ms preprocess, 10.3ms inference, 1.3ms postprocess per image at shape (1, 3, 736, 1280)\n",
            "\n",
            "0: 736x1280 1 tennis, 10.3ms\n",
            "Speed: 5.3ms preprocess, 10.3ms inference, 1.2ms postprocess per image at shape (1, 3, 736, 1280)\n",
            "\n",
            "0: 736x1280 (no detections), 10.3ms\n",
            "Speed: 5.3ms preprocess, 10.3ms inference, 0.7ms postprocess per image at shape (1, 3, 736, 1280)\n",
            "\n",
            "0: 736x1280 1 tennis, 10.3ms\n",
            "Speed: 5.1ms preprocess, 10.3ms inference, 1.2ms postprocess per image at shape (1, 3, 736, 1280)\n",
            "\n",
            "0: 736x1280 1 tennis, 10.3ms\n",
            "Speed: 3.6ms preprocess, 10.3ms inference, 1.2ms postprocess per image at shape (1, 3, 736, 1280)\n",
            "\n",
            "0: 736x1280 1 tennis, 10.2ms\n",
            "Speed: 4.4ms preprocess, 10.2ms inference, 1.2ms postprocess per image at shape (1, 3, 736, 1280)\n",
            "\n",
            "0: 736x1280 (no detections), 10.3ms\n",
            "Speed: 5.1ms preprocess, 10.3ms inference, 0.5ms postprocess per image at shape (1, 3, 736, 1280)\n",
            "\n",
            "0: 736x1280 (no detections), 10.3ms\n",
            "Speed: 5.1ms preprocess, 10.3ms inference, 0.5ms postprocess per image at shape (1, 3, 736, 1280)\n",
            "\n",
            "0: 736x1280 1 tennis, 10.3ms\n",
            "Speed: 6.0ms preprocess, 10.3ms inference, 1.3ms postprocess per image at shape (1, 3, 736, 1280)\n",
            "\n",
            "0: 736x1280 1 tennis, 10.3ms\n",
            "Speed: 5.5ms preprocess, 10.3ms inference, 1.3ms postprocess per image at shape (1, 3, 736, 1280)\n",
            "\n",
            "0: 736x1280 (no detections), 10.2ms\n",
            "Speed: 5.2ms preprocess, 10.2ms inference, 0.6ms postprocess per image at shape (1, 3, 736, 1280)\n",
            "\n",
            "0: 736x1280 (no detections), 10.3ms\n",
            "Speed: 5.5ms preprocess, 10.3ms inference, 0.6ms postprocess per image at shape (1, 3, 736, 1280)\n",
            "\n",
            "0: 736x1280 1 tennis, 10.3ms\n",
            "Speed: 4.9ms preprocess, 10.3ms inference, 1.3ms postprocess per image at shape (1, 3, 736, 1280)\n",
            "\n",
            "0: 736x1280 (no detections), 10.2ms\n",
            "Speed: 4.8ms preprocess, 10.2ms inference, 0.6ms postprocess per image at shape (1, 3, 736, 1280)\n",
            "\n",
            "0: 736x1280 1 tennis, 10.3ms\n",
            "Speed: 4.9ms preprocess, 10.3ms inference, 1.5ms postprocess per image at shape (1, 3, 736, 1280)\n",
            "\n",
            "0: 736x1280 (no detections), 11.5ms\n",
            "Speed: 3.9ms preprocess, 11.5ms inference, 0.6ms postprocess per image at shape (1, 3, 736, 1280)\n",
            "\n",
            "0: 736x1280 1 tennis, 10.2ms\n",
            "Speed: 4.5ms preprocess, 10.2ms inference, 1.3ms postprocess per image at shape (1, 3, 736, 1280)\n",
            "\n",
            "0: 736x1280 1 tennis, 10.3ms\n",
            "Speed: 4.6ms preprocess, 10.3ms inference, 1.2ms postprocess per image at shape (1, 3, 736, 1280)\n",
            "\n",
            "0: 736x1280 1 tennis, 10.3ms\n",
            "Speed: 5.4ms preprocess, 10.3ms inference, 1.9ms postprocess per image at shape (1, 3, 736, 1280)\n",
            "\n",
            "0: 736x1280 (no detections), 11.7ms\n",
            "Speed: 6.9ms preprocess, 11.7ms inference, 0.5ms postprocess per image at shape (1, 3, 736, 1280)\n",
            "\n",
            "0: 736x1280 (no detections), 10.3ms\n",
            "Speed: 4.9ms preprocess, 10.3ms inference, 0.5ms postprocess per image at shape (1, 3, 736, 1280)\n",
            "\n",
            "0: 736x1280 (no detections), 10.3ms\n",
            "Speed: 4.9ms preprocess, 10.3ms inference, 0.5ms postprocess per image at shape (1, 3, 736, 1280)\n",
            "\n",
            "0: 736x1280 (no detections), 10.2ms\n",
            "Speed: 4.4ms preprocess, 10.2ms inference, 0.6ms postprocess per image at shape (1, 3, 736, 1280)\n",
            "\n",
            "0: 736x1280 (no detections), 10.4ms\n",
            "Speed: 5.1ms preprocess, 10.4ms inference, 0.6ms postprocess per image at shape (1, 3, 736, 1280)\n",
            "\n",
            "0: 736x1280 1 tennis, 11.3ms\n",
            "Speed: 5.0ms preprocess, 11.3ms inference, 1.2ms postprocess per image at shape (1, 3, 736, 1280)\n",
            "\n",
            "0: 736x1280 (no detections), 10.4ms\n",
            "Speed: 5.2ms preprocess, 10.4ms inference, 0.6ms postprocess per image at shape (1, 3, 736, 1280)\n",
            "\n",
            "0: 736x1280 (no detections), 10.4ms\n",
            "Speed: 4.8ms preprocess, 10.4ms inference, 0.5ms postprocess per image at shape (1, 3, 736, 1280)\n",
            "\n",
            "0: 736x1280 (no detections), 10.4ms\n",
            "Speed: 5.0ms preprocess, 10.4ms inference, 0.5ms postprocess per image at shape (1, 3, 736, 1280)\n",
            "\n",
            "0: 736x1280 1 tennis, 10.5ms\n",
            "Speed: 5.3ms preprocess, 10.5ms inference, 1.3ms postprocess per image at shape (1, 3, 736, 1280)\n",
            "\n",
            "0: 736x1280 1 tennis, 10.5ms\n",
            "Speed: 5.1ms preprocess, 10.5ms inference, 1.2ms postprocess per image at shape (1, 3, 736, 1280)\n",
            "\n",
            "0: 736x1280 1 tennis, 10.4ms\n",
            "Speed: 6.6ms preprocess, 10.4ms inference, 1.2ms postprocess per image at shape (1, 3, 736, 1280)\n",
            "\n",
            "0: 736x1280 (no detections), 10.4ms\n",
            "Speed: 5.1ms preprocess, 10.4ms inference, 0.6ms postprocess per image at shape (1, 3, 736, 1280)\n",
            "\n",
            "0: 736x1280 1 tennis, 10.4ms\n",
            "Speed: 5.2ms preprocess, 10.4ms inference, 1.2ms postprocess per image at shape (1, 3, 736, 1280)\n",
            "\n",
            "0: 736x1280 (no detections), 11.6ms\n",
            "Speed: 5.2ms preprocess, 11.6ms inference, 0.6ms postprocess per image at shape (1, 3, 736, 1280)\n",
            "\n",
            "0: 736x1280 (no detections), 10.4ms\n",
            "Speed: 4.6ms preprocess, 10.4ms inference, 0.6ms postprocess per image at shape (1, 3, 736, 1280)\n",
            "\n",
            "0: 736x1280 (no detections), 10.4ms\n",
            "Speed: 4.9ms preprocess, 10.4ms inference, 0.6ms postprocess per image at shape (1, 3, 736, 1280)\n",
            "\n",
            "0: 736x1280 (no detections), 10.4ms\n",
            "Speed: 5.0ms preprocess, 10.4ms inference, 0.5ms postprocess per image at shape (1, 3, 736, 1280)\n",
            "\n",
            "0: 736x1280 (no detections), 12.3ms\n",
            "Speed: 7.3ms preprocess, 12.3ms inference, 0.8ms postprocess per image at shape (1, 3, 736, 1280)\n",
            "\n",
            "0: 736x1280 (no detections), 11.1ms\n",
            "Speed: 5.3ms preprocess, 11.1ms inference, 0.9ms postprocess per image at shape (1, 3, 736, 1280)\n",
            "\n",
            "0: 736x1280 (no detections), 10.4ms\n",
            "Speed: 4.8ms preprocess, 10.4ms inference, 0.8ms postprocess per image at shape (1, 3, 736, 1280)\n",
            "\n",
            "0: 736x1280 (no detections), 12.6ms\n",
            "Speed: 6.0ms preprocess, 12.6ms inference, 0.9ms postprocess per image at shape (1, 3, 736, 1280)\n",
            "\n",
            "0: 736x1280 (no detections), 10.4ms\n",
            "Speed: 5.1ms preprocess, 10.4ms inference, 0.8ms postprocess per image at shape (1, 3, 736, 1280)\n"
          ]
        },
        {
          "ename": "error",
          "evalue": "OpenCV(4.10.0) /io/opencv/modules/highgui/src/window.cpp:1295: error: (-2:Unspecified error) The function is not implemented. Rebuild the library with Windows, GTK+ 2.x or Cocoa support. If you are on Ubuntu or Debian, install libgtk2.0-dev and pkg-config, then re-run cmake or configure script in function 'cvDestroyAllWindows'\n",
          "output_type": "error",
          "traceback": [
            "\u001b[0;31m---------------------------------------------------------------------------\u001b[0m",
            "\u001b[0;31merror\u001b[0m                                     Traceback (most recent call last)",
            "\u001b[0;32m<ipython-input-20-a779d1c7db05>\u001b[0m in \u001b[0;36m<cell line: 0>\u001b[0;34m()\u001b[0m\n\u001b[1;32m     70\u001b[0m \u001b[0mcap\u001b[0m\u001b[0;34m.\u001b[0m\u001b[0mrelease\u001b[0m\u001b[0;34m(\u001b[0m\u001b[0;34m)\u001b[0m\u001b[0;34m\u001b[0m\u001b[0;34m\u001b[0m\u001b[0m\n\u001b[1;32m     71\u001b[0m \u001b[0mout\u001b[0m\u001b[0;34m.\u001b[0m\u001b[0mrelease\u001b[0m\u001b[0;34m(\u001b[0m\u001b[0;34m)\u001b[0m\u001b[0;34m\u001b[0m\u001b[0;34m\u001b[0m\u001b[0m\n\u001b[0;32m---> 72\u001b[0;31m \u001b[0mcv2\u001b[0m\u001b[0;34m.\u001b[0m\u001b[0mdestroyAllWindows\u001b[0m\u001b[0;34m(\u001b[0m\u001b[0;34m)\u001b[0m\u001b[0;34m\u001b[0m\u001b[0;34m\u001b[0m\u001b[0m\n\u001b[0m",
            "\u001b[0;31merror\u001b[0m: OpenCV(4.10.0) /io/opencv/modules/highgui/src/window.cpp:1295: error: (-2:Unspecified error) The function is not implemented. Rebuild the library with Windows, GTK+ 2.x or Cocoa support. If you are on Ubuntu or Debian, install libgtk2.0-dev and pkg-config, then re-run cmake or configure script in function 'cvDestroyAllWindows'\n"
          ]
        }
      ],
      "source": [
        "# Load language model\n",
        "model_id = \"openchat/openchat-3.5-0106\"\n",
        "tokenizer = AutoTokenizer.from_pretrained(model_id)\n",
        "model = AutoModelForCausalLM.from_pretrained(model_id, device_map=\"auto\", torch_dtype=\"auto\")\n",
        "generator = pipeline(\"text-generation\", model=model, tokenizer=tokenizer)\n",
        "\n",
        "def generate_commentary(speed_window, start_frame, end_frame):\n",
        "    prompt = f\"\"\"\n",
        "You're a football match commentator.\n",
        "Analyze the ball's speed between frames {start_frame} and {end_frame}: {speed_window}.\n",
        "Generate short, energetic sports commentary.\"\"\"\n",
        "    result = generator(prompt, max_new_tokens=60, do_sample=True, temperature=0.8)\n",
        "    commentary = result[0]['generated_text'].split(prompt)[-1].strip()\n",
        "    return commentary\n",
        "\n",
        "def text_to_audio(text, filename=\"commentary.mp3\"):\n",
        "    tts = gTTS(text=text, lang=\"en\")\n",
        "    tts.save(filename)\n",
        "\n",
        "def add_audio_to_video(video_path, audio_events, output_path):\n",
        "    video = VideoFileClip(video_path)\n",
        "    clips = [video.audio] if video.audio else []\n",
        "\n",
        "    for audio_file, start_time in audio_events:\n",
        "        audio = AudioFileClip(audio_file).set_start(start_time)\n",
        "        clips.append(audio)\n",
        "\n",
        "    final_audio = CompositeAudioClip(clips)\n",
        "    final_video = video.set_audio(final_audio)\n",
        "    final_video.write_videofile(output_path, codec=\"libx264\", audio_codec=\"aac\")\n",
        "\n",
        "# ---------------------- Video + YOLO + Commentary ----------------------\n",
        "\n",
        "video_path = \"/content/0405 - Trim.mp4\"\n",
        "temp_video_path = \"new_video.mp4\"\n",
        "final_output_path = \"final_output.mp4\"\n",
        "\n",
        "model = YOLO(\"/content/runs/detect/train2/weights/best.pt\")\n",
        "\n",
        "cap = cv2.VideoCapture(video_path)\n",
        "frame_width = int(cap.get(cv2.CAP_PROP_FRAME_WIDTH))\n",
        "frame_height = int(cap.get(cv2.CAP_PROP_FRAME_HEIGHT))\n",
        "fps = int(cap.get(cv2.CAP_PROP_FPS))\n",
        "time_per_frame = 1 / fps\n",
        "fourcc = cv2.VideoWriter_fourcc(*\"mp4v\")\n",
        "out = cv2.VideoWriter(temp_video_path, fourcc, fps, (frame_width, frame_height))\n",
        "\n",
        "previous_center = None\n",
        "pixel_to_meter = 0.05\n",
        "speeds = []\n",
        "frame_count = 0\n",
        "window_size = 30  # ≈ 1 second\n",
        "audio_events = []\n",
        "\n",
        "while cap.isOpened():\n",
        "    ret, frame = cap.read()\n",
        "    if not ret:\n",
        "        break\n",
        "\n",
        "    frame_count += 1\n",
        "    results = model(frame, conf=0.3)\n",
        "\n",
        "    for result in results[0].boxes.data:\n",
        "        x1, y1, x2, y2 = map(int, result[:4].tolist())\n",
        "        center_x = (x1 + x2) // 2\n",
        "        center_y = (y1 + y2) // 2\n",
        "\n",
        "        if previous_center:\n",
        "            prev_x, prev_y = previous_center\n",
        "            distance_pixels = math.sqrt((center_x - prev_x) ** 2 + (center_y - prev_y) ** 2)\n",
        "            distance_meters = distance_pixels * pixel_to_meter\n",
        "            speed = (distance_meters / time_per_frame) * 3.6\n",
        "        else:\n",
        "            speed = 0\n",
        "        speeds.append(speed)\n",
        "        previous_center = (center_x, center_y)\n",
        "\n",
        "        # Draw\n",
        "        radius = max((x2 - x1) // 2, (y2 - y1) // 2)\n",
        "        cv2.circle(frame, (center_x, center_y), radius, (0, 0, 255), 1)\n",
        "        cv2.putText(frame, f\"Speed: {speed:.2f} km/h\", (center_x, center_y - radius - 20),\n",
        "                    cv2.FONT_HERSHEY_SIMPLEX, 0.5, (255, 255, 255), 2)\n",
        "\n",
        "    # Commentary generation\n",
        "    if frame_count % window_size == 0:\n",
        "        start = frame_count - window_size\n",
        "        end = frame_count\n",
        "        speed_window = speeds[start:end]\n",
        "        commentary_text = generate_commentary(speed_window, start, end)\n",
        "        print(f\"[{start}-{end}] {commentary_text}\")\n",
        "\n",
        "        audio_filename = f\"commentary_{start}_{end}.mp3\"\n",
        "        text_to_audio(commentary_text, filename=audio_filename)\n",
        "        start_time_sec = start / fps\n",
        "        audio_events.append((audio_filename, start_time_sec))\n",
        "\n",
        "    out.write(frame)\n",
        "\n",
        "cap.release()\n",
        "out.release()\n",
        "cv2.destroyAllWindows()\n",
        "\n",
        "# ---------------------- Add Audio to Final Video ----------------------\n",
        "add_audio_to_video(temp_video_path, audio_events, final_output_path)\n",
        "\n",
        "# Clean up temp audio\n",
        "for f, _ in audio_events:\n",
        "    os.remove(f)\n",
        "\n",
        "print(f\"✅ Final video saved to: {final_output_path}\")"
      ]
    }
  ],
  "metadata": {
    "accelerator": "GPU",
    "colab": {
      "gpuType": "T4",
      "provenance": []
    },
    "kernelspec": {
      "display_name": "Python 3",
      "name": "python3"
    },
    "language_info": {
      "name": "python"
    }
  },
  "nbformat": 4,
  "nbformat_minor": 0
}
