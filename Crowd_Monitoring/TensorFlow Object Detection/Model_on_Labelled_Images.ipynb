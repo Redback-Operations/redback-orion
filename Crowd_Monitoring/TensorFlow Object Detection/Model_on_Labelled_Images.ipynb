{
  "nbformat": 4,
  "nbformat_minor": 0,
  "metadata": {
    "colab": {
      "provenance": []
    },
    "kernelspec": {
      "display_name": "Python 3",
      "name": "python3"
    },
    "accelerator": "GPU"
  },
  "cells": [
    {
      "cell_type": "code",
      "source": [
        "import numpy as np\n",
        "import tensorflow as tf\n",
        "import cv2\n",
        "import glob\n",
        "\n",
        "class People_Counter:\n",
        "    def __init__(self, path):\n",
        "        self.path = path\n",
        "        self.detection_graph = tf.Graph()\n",
        "        with self.detection_graph.as_default():\n",
        "            od_graph_def = tf.compat.v1.GraphDef()\n",
        "            with tf.io.gfile.GFile(self.path, 'rb') as fid:\n",
        "                serialized_graph = fid.read()\n",
        "                od_graph_def.ParseFromString(serialized_graph)\n",
        "                tf.import_graph_def(od_graph_def, name='')\n",
        "\n",
        "        self.default_graph = self.detection_graph.as_default()\n",
        "        self.sess = tf.compat.v1.Session(graph=self.detection_graph)\n",
        "\n",
        "        self.image_tensor = self.detection_graph.get_tensor_by_name('image_tensor:0')\n",
        "        self.detection_boxes = self.detection_graph.get_tensor_by_name('detection_boxes:0')\n",
        "        self.detection_scores = self.detection_graph.get_tensor_by_name('detection_scores:0')\n",
        "        self.detection_classes = self.detection_graph.get_tensor_by_name('detection_classes:0')\n",
        "        self.num_detections = self.detection_graph.get_tensor_by_name('num_detections:0')\n",
        "\n",
        "    def detect(self, image):\n",
        "        image_np_expanded = np.expand_dims(image, axis=0)\n",
        "        (boxes, scores, classes, num) = self.sess.run(\n",
        "            [self.detection_boxes, self.detection_scores, self.detection_classes, self.num_detections],\n",
        "            feed_dict={self.image_tensor: image_np_expanded})\n",
        "\n",
        "        im_height, im_width, _ = image.shape\n",
        "        boxes_list = [None for i in range(boxes.shape[1])]\n",
        "        for i in range(boxes.shape[1]):\n",
        "            boxes_list[i] = (int(boxes[0, i, 0] * im_height),\n",
        "                             int(boxes[0, i, 1] * im_width),\n",
        "                             int(boxes[0, i, 2] * im_height),\n",
        "                             int(boxes[0, i, 3] * im_width))\n",
        "\n",
        "        return boxes_list, scores[0].tolist(), [int(x) for x in classes[0].tolist()], int(num[0])\n",
        "\n",
        "    def close(self):\n",
        "        self.sess.close()\n",
        "        self.default_graph.close()\n",
        "\n",
        "if __name__ == \"__main__\":\n",
        "    model_path = '/content/my_model.pb'\n",
        "    peop_counter = People_Counter(path=model_path)\n",
        "    threshold = 0.4\n",
        "    no = 1\n",
        "    for img_path in glob.glob(\"/content/images/test/*.jpg\"):\n",
        "        count = 0\n",
        "        img = cv2.imread(img_path)\n",
        "        img = cv2.resize(img, (640, 480))\n",
        "\n",
        "        boxes, scores, classes, num = peop_counter.detect(img)\n",
        "\n",
        "        for i in range(len(boxes)):\n",
        "            if classes[i] == 1 and scores[i] > threshold:\n",
        "                box = boxes[i]\n",
        "                cv2.rectangle(img, (box[1], box[0]), (box[3], box[2]), (255, 0, 0), 2)\n",
        "                count += 1\n",
        "        cv2.putText(img, 'Count = ' + str(count), (10, 400), cv2.FONT_HERSHEY_SIMPLEX, 1.25, (255, 255, 0), 2, cv2.LINE_AA)\n",
        "        cv2.imwrite(\"/content/test.jpg\", img)\n",
        "        no += 1\n",
        "    print(\"\\n\\t\\t\\tSuccessfully saved all results!\\n\")\n"
      ],
      "metadata": {
        "id": "ZBY1J21ocyfK",
        "outputId": "9733df99-d01b-4901-c892-0de7273c7950",
        "colab": {
          "base_uri": "https://localhost:8080/"
        }
      },
      "execution_count": null,
      "outputs": [
        {
          "output_type": "stream",
          "name": "stdout",
          "text": [
            "\n",
            "\t\t\tSuccessfully saved all results!\n",
            "\n"
          ]
        }
      ]
    },
    {
      "cell_type": "code",
      "source": [
        "!wget -O model \"https://drive.google.com/drive/folders/1IBgEyaASf10KUFTCbky9mtruUpyoqDWR?usp=drive_link\""
      ],
      "metadata": {
        "id": "UStXhL20llOr",
        "outputId": "477863f3-9431-40d1-b1be-cd731dc31d8f",
        "colab": {
          "base_uri": "https://localhost:8080/"
        }
      },
      "execution_count": null,
      "outputs": [
        {
          "output_type": "stream",
          "name": "stdout",
          "text": [
            "--2024-04-22 05:40:27--  https://drive.google.com/drive/folders/1IBgEyaASf10KUFTCbky9mtruUpyoqDWR?usp=drive_link\n",
            "Resolving drive.google.com (drive.google.com)... 172.217.214.113, 172.217.214.139, 172.217.214.101, ...\n",
            "Connecting to drive.google.com (drive.google.com)|172.217.214.113|:443... connected.\n",
            "HTTP request sent, awaiting response... 200 OK\n",
            "Length: unspecified [text/html]\n",
            "Saving to: ‘model’\n",
            "\n",
            "model                   [  <=>               ] 246.65K   979KB/s    in 0.3s    \n",
            "\n",
            "2024-04-22 05:40:28 (979 KB/s) - ‘model’ saved [252574]\n",
            "\n"
          ]
        }
      ]
    },
    {
      "cell_type": "code",
      "source": [
        "# Specify the path to the zip file\n",
        "zip_file_path = '/content/my_model.pb.zip'\n",
        "\n",
        "# Specify the directory where you want to extract the contents\n",
        "extracted_dir_path = '/content'\n",
        "\n",
        "# Unzip the file\n",
        "import zipfile\n",
        "with zipfile.ZipFile(zip_file_path, 'r') as zip_ref:\n",
        "    zip_ref.extractall(extracted_dir_path)\n",
        "\n",
        "# Print a message indicating that the extraction is complete\n",
        "print(\"Extraction completed.\")\n"
      ],
      "metadata": {
        "colab": {
          "base_uri": "https://localhost:8080/",
          "height": 365
        },
        "id": "UQX6uvlGUeVM",
        "outputId": "f9172786-51ca-4808-b7ba-48c047d556d9"
      },
      "execution_count": null,
      "outputs": [
        {
          "output_type": "error",
          "ename": "BadZipFile",
          "evalue": "File is not a zip file",
          "traceback": [
            "\u001b[0;31m---------------------------------------------------------------------------\u001b[0m",
            "\u001b[0;31mBadZipFile\u001b[0m                                Traceback (most recent call last)",
            "\u001b[0;32m<ipython-input-6-c5375c59e451>\u001b[0m in \u001b[0;36m<cell line: 9>\u001b[0;34m()\u001b[0m\n\u001b[1;32m      7\u001b[0m \u001b[0;31m# Unzip the file\u001b[0m\u001b[0;34m\u001b[0m\u001b[0;34m\u001b[0m\u001b[0m\n\u001b[1;32m      8\u001b[0m \u001b[0;32mimport\u001b[0m \u001b[0mzipfile\u001b[0m\u001b[0;34m\u001b[0m\u001b[0;34m\u001b[0m\u001b[0m\n\u001b[0;32m----> 9\u001b[0;31m \u001b[0;32mwith\u001b[0m \u001b[0mzipfile\u001b[0m\u001b[0;34m.\u001b[0m\u001b[0mZipFile\u001b[0m\u001b[0;34m(\u001b[0m\u001b[0mzip_file_path\u001b[0m\u001b[0;34m,\u001b[0m \u001b[0;34m'r'\u001b[0m\u001b[0;34m)\u001b[0m \u001b[0;32mas\u001b[0m \u001b[0mzip_ref\u001b[0m\u001b[0;34m:\u001b[0m\u001b[0;34m\u001b[0m\u001b[0;34m\u001b[0m\u001b[0m\n\u001b[0m\u001b[1;32m     10\u001b[0m     \u001b[0mzip_ref\u001b[0m\u001b[0;34m.\u001b[0m\u001b[0mextractall\u001b[0m\u001b[0;34m(\u001b[0m\u001b[0mextracted_dir_path\u001b[0m\u001b[0;34m)\u001b[0m\u001b[0;34m\u001b[0m\u001b[0;34m\u001b[0m\u001b[0m\n\u001b[1;32m     11\u001b[0m \u001b[0;34m\u001b[0m\u001b[0m\n",
            "\u001b[0;32m/usr/lib/python3.10/zipfile.py\u001b[0m in \u001b[0;36m__init__\u001b[0;34m(self, file, mode, compression, allowZip64, compresslevel, strict_timestamps)\u001b[0m\n\u001b[1;32m   1267\u001b[0m         \u001b[0;32mtry\u001b[0m\u001b[0;34m:\u001b[0m\u001b[0;34m\u001b[0m\u001b[0;34m\u001b[0m\u001b[0m\n\u001b[1;32m   1268\u001b[0m             \u001b[0;32mif\u001b[0m \u001b[0mmode\u001b[0m \u001b[0;34m==\u001b[0m \u001b[0;34m'r'\u001b[0m\u001b[0;34m:\u001b[0m\u001b[0;34m\u001b[0m\u001b[0;34m\u001b[0m\u001b[0m\n\u001b[0;32m-> 1269\u001b[0;31m                 \u001b[0mself\u001b[0m\u001b[0;34m.\u001b[0m\u001b[0m_RealGetContents\u001b[0m\u001b[0;34m(\u001b[0m\u001b[0;34m)\u001b[0m\u001b[0;34m\u001b[0m\u001b[0;34m\u001b[0m\u001b[0m\n\u001b[0m\u001b[1;32m   1270\u001b[0m             \u001b[0;32melif\u001b[0m \u001b[0mmode\u001b[0m \u001b[0;32min\u001b[0m \u001b[0;34m(\u001b[0m\u001b[0;34m'w'\u001b[0m\u001b[0;34m,\u001b[0m \u001b[0;34m'x'\u001b[0m\u001b[0;34m)\u001b[0m\u001b[0;34m:\u001b[0m\u001b[0;34m\u001b[0m\u001b[0;34m\u001b[0m\u001b[0m\n\u001b[1;32m   1271\u001b[0m                 \u001b[0;31m# set the modified flag so central directory gets written\u001b[0m\u001b[0;34m\u001b[0m\u001b[0;34m\u001b[0m\u001b[0m\n",
            "\u001b[0;32m/usr/lib/python3.10/zipfile.py\u001b[0m in \u001b[0;36m_RealGetContents\u001b[0;34m(self)\u001b[0m\n\u001b[1;32m   1334\u001b[0m             \u001b[0;32mraise\u001b[0m \u001b[0mBadZipFile\u001b[0m\u001b[0;34m(\u001b[0m\u001b[0;34m\"File is not a zip file\"\u001b[0m\u001b[0;34m)\u001b[0m\u001b[0;34m\u001b[0m\u001b[0;34m\u001b[0m\u001b[0m\n\u001b[1;32m   1335\u001b[0m         \u001b[0;32mif\u001b[0m \u001b[0;32mnot\u001b[0m \u001b[0mendrec\u001b[0m\u001b[0;34m:\u001b[0m\u001b[0;34m\u001b[0m\u001b[0;34m\u001b[0m\u001b[0m\n\u001b[0;32m-> 1336\u001b[0;31m             \u001b[0;32mraise\u001b[0m \u001b[0mBadZipFile\u001b[0m\u001b[0;34m(\u001b[0m\u001b[0;34m\"File is not a zip file\"\u001b[0m\u001b[0;34m)\u001b[0m\u001b[0;34m\u001b[0m\u001b[0;34m\u001b[0m\u001b[0m\n\u001b[0m\u001b[1;32m   1337\u001b[0m         \u001b[0;32mif\u001b[0m \u001b[0mself\u001b[0m\u001b[0;34m.\u001b[0m\u001b[0mdebug\u001b[0m \u001b[0;34m>\u001b[0m \u001b[0;36m1\u001b[0m\u001b[0;34m:\u001b[0m\u001b[0;34m\u001b[0m\u001b[0;34m\u001b[0m\u001b[0m\n\u001b[1;32m   1338\u001b[0m             \u001b[0mprint\u001b[0m\u001b[0;34m(\u001b[0m\u001b[0mendrec\u001b[0m\u001b[0;34m)\u001b[0m\u001b[0;34m\u001b[0m\u001b[0;34m\u001b[0m\u001b[0m\n",
            "\u001b[0;31mBadZipFile\u001b[0m: File is not a zip file"
          ]
        }
      ]
    },
    {
      "cell_type": "code",
      "source": [],
      "metadata": {
        "id": "L7v5tosnVntu"
      },
      "execution_count": null,
      "outputs": []
    }
  ]
}