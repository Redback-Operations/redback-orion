{
 "cells": [
  {
   "cell_type": "code",
   "execution_count": 1,
   "id": "881ca172-1610-43ea-a173-005c7e6b3c33",
   "metadata": {},
   "outputs": [
    {
     "name": "stdout",
     "output_type": "stream",
     "text": [
      "CSV file successfully filtered and saved.\n"
     ]
    }
   ],
   "source": [
    "import csv\n",
    "\n",
    "input_file = 'sensor_data.csv'\n",
    "output_file = 'sensor_data_filtered.csv'\n",
    "\n",
    "rows = []\n",
    "\n",
    "with open(input_file, 'r') as csvfile:\n",
    "    reader = csv.reader(csvfile)\n",
    "    next(reader)  # Skip header\n",
    "    for row in reader:\n",
    "        if float(row[1]) != 0:\n",
    "            rows.append(row)\n",
    "\n",
    "with open(output_file, 'w', newline='') as csvfile:\n",
    "    writer = csv.writer(csvfile)\n",
    "    writer.writerow(['Timestamp', 'Distance covered from previous time interval'])\n",
    "    writer.writerows(rows)\n",
    "\n",
    "print('CSV file successfully filtered and saved.')\n"
   ]
  },
  {
   "cell_type": "code",
   "execution_count": null,
   "id": "b15307a7-acb5-499b-abea-d94afe9ac802",
   "metadata": {},
   "outputs": [],
   "source": []
  }
 ],
 "metadata": {
  "kernelspec": {
   "display_name": "Python 3 (ipykernel)",
   "language": "python",
   "name": "python3"
  },
  "language_info": {
   "codemirror_mode": {
    "name": "ipython",
    "version": 3
   },
   "file_extension": ".py",
   "mimetype": "text/x-python",
   "name": "python",
   "nbconvert_exporter": "python",
   "pygments_lexer": "ipython3",
   "version": "3.11.7"
  }
 },
 "nbformat": 4,
 "nbformat_minor": 5
}
