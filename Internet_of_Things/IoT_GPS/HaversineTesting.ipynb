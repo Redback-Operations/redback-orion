{
 "cells": [
  {
   "cell_type": "code",
   "execution_count": 2,
   "id": "968758fd-fa9f-4ed8-89c6-0c8e059da0d3",
   "metadata": {},
   "outputs": [
    {
     "name": "stdout",
     "output_type": "stream",
     "text": [
      "Distance between New York City and Los Angeles: 3935746.254609723 meters\n"
     ]
    }
   ],
   "source": [
    "from math import radians, sin, cos, sqrt, atan2\n",
    "\n",
    "def haversine(lat1, lon1, lat2, lon2):\n",
    "    # Convert latitude and longitude from degrees to radians\n",
    "    lat1, lon1, lat2, lon2 = map(radians, [lat1, lon1, lat2, lon2])\n",
    "    \n",
    "    # Haversine formula\n",
    "    dlat = lat2 - lat1\n",
    "    dlon = lon2 - lon1\n",
    "    a = sin(dlat / 2) ** 2 + cos(lat1) * cos(lat2) * sin(dlon / 2) ** 2\n",
    "    c = 2 * atan2(sqrt(a), sqrt(1 - a))\n",
    "    distance = 6371000 * c  # Earth radius in meters\n",
    "    return distance\n",
    "\n",
    "# Example coordinates (New York City)\n",
    "lat1, lon1 = 40.7128, -74.0060\n",
    "# Example coordinates (Los Angeles)\n",
    "lat2, lon2 = 34.0522, -118.2437\n",
    "\n",
    "# Calculate distance using Haversine formula\n",
    "distance = haversine(lat1, lon1, lat2, lon2)\n",
    "print(\"Distance between New York City and Los Angeles:\", distance, \"meters\")\n"
   ]
  },
  {
   "cell_type": "code",
   "execution_count": 3,
   "id": "ccc2558f-42d1-4232-9d02-2bb3f00cc582",
   "metadata": {},
   "outputs": [
    {
     "name": "stdout",
     "output_type": "stream",
     "text": [
      "Total distance covered by the player: 27.905673817611103 meters\n"
     ]
    }
   ],
   "source": [
    "from math import radians, sin, cos, sqrt, atan2\n",
    "\n",
    "def haversine(lat1, lon1, lat2, lon2):\n",
    "    # Convert latitude and longitude from degrees to radians\n",
    "    lat1, lon1, lat2, lon2 = map(radians, [lat1, lon1, lat2, lon2])\n",
    "    \n",
    "    # Haversine formula\n",
    "    dlat = lat2 - lat1\n",
    "    dlon = lon2 - lon1\n",
    "    a = sin(dlat / 2) ** 2 + cos(lat1) * cos(lat2) * sin(dlon / 2) ** 2\n",
    "    c = 2 * atan2(sqrt(a), sqrt(1 - a))\n",
    "    distance = 6371000 * c  # Earth radius in meters\n",
    "    return distance\n",
    "\n",
    "# Example player movement data (latitude, longitude, timestamp)\n",
    "player_movement = [\n",
    "    (40.7128, -74.0060, \"2024-03-29 10:00:00\"),\n",
    "    (40.7129, -74.0061, \"2024-03-29 10:05:00\"),\n",
    "    (40.7130, -74.0062, \"2024-03-29 10:10:00\"),\n",
    "    # Add more coordinates as needed\n",
    "]\n",
    "\n",
    "total_distance = 0\n",
    "\n",
    "# Iterate over player movement data and calculate distance between consecutive points\n",
    "for i in range(1, len(player_movement)):\n",
    "    lat1, lon1, _ = player_movement[i - 1]  # Previous point\n",
    "    lat2, lon2, _ = player_movement[i]      # Current point\n",
    "    \n",
    "    # Calculate distance between consecutive points\n",
    "    distance = haversine(lat1, lon1, lat2, lon2)\n",
    "    total_distance += distance\n",
    "\n",
    "# Output total distance covered by the player\n",
    "print(\"Total distance covered by the player:\", total_distance, \"meters\")\n"
   ]
  },
  {
   "cell_type": "code",
   "execution_count": null,
   "id": "291382b2-8106-4f74-85b0-79822015f47e",
   "metadata": {},
   "outputs": [],
   "source": []
  },
  {
   "cell_type": "code",
   "execution_count": null,
   "id": "b2daeb26-cfae-43f2-a289-f222312e208a",
   "metadata": {},
   "outputs": [],
   "source": []
  }
 ],
 "metadata": {
  "kernelspec": {
   "display_name": "Python 3 (ipykernel)",
   "language": "python",
   "name": "python3"
  },
  "language_info": {
   "codemirror_mode": {
    "name": "ipython",
    "version": 3
   },
   "file_extension": ".py",
   "mimetype": "text/x-python",
   "name": "python",
   "nbconvert_exporter": "python",
   "pygments_lexer": "ipython3",
   "version": "3.11.7"
  }
 },
 "nbformat": 4,
 "nbformat_minor": 5
}
